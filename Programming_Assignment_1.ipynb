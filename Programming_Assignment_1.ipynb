{
 "cells": [
  {
   "cell_type": "markdown",
   "metadata": {
    "id": "Hr7SGYEq69wv"
   },
   "source": [
    "# ITCS 6162: Data Mining - Programming Assignment"
   ]
  },
  {
   "cell_type": "markdown",
   "metadata": {
    "id": "L_idzFtE7M_9"
   },
   "source": [
    "**In this assignment, you will explore data analysis, recommendation algorithms, and graph-based techniques using the MovieLens dataset. Your tasks will range from basic data exploration to advanced recommendation models, including:**\n",
    "- Data manipulation with pandas\n",
    "- User-item collaborative filtering\n",
    "- Similarity-based recommendation models\n",
    "- A Pixie-inspired Graph-based recommendation using adjacency lists with weighted random walks (without using NetworkX)\n"
   ]
  },
  {
   "cell_type": "markdown",
   "metadata": {
    "id": "EZxjOF_l79zc"
   },
   "source": [
    "#### **Dataset Files:**\n",
    "- **`u.data`**: User-movie ratings (`user_id  movie_id  rating  timestamp`)\n",
    "- **`u.item`**: Movie metadata (`movie_id | title | release date | IMDB_website`)\n",
    "- **`u.user`**: User demographics (`user_id | age | gender | occupation | zip_code`)"
   ]
  },
  {
   "cell_type": "markdown",
   "metadata": {
    "id": "ytr6isc2F9g6"
   },
   "source": [
    "## **Part 1: Exploring and Cleaning Data**"
   ]
  },
  {
   "cell_type": "markdown",
   "metadata": {
    "id": "87kIrhTC9Ba1"
   },
   "source": [
    "### Inspecting the Dataset Format\n",
    "\n",
    "The dataset is not in a traditional CSV format. To examine its structure, use the following shell command to display the first 10 lines of the file:\n",
    "\n",
    "```sh\n",
    "!head <file_name>\n"
   ]
  },
  {
   "cell_type": "markdown",
   "metadata": {
    "id": "PjOtbBWM9xWv"
   },
   "source": [
    "**In the cells given below. Write the code to read the files.**"
   ]
  },
  {
   "cell_type": "code",
   "execution_count": 79,
   "metadata": {
    "colab": {
     "base_uri": "https://localhost:8080/"
    },
    "id": "XOoSaKsq68nD",
    "outputId": "965f9d80-8c2d-485a-9406-2efcc5f70064"
   },
   "outputs": [
    {
     "name": "stdout",
     "output_type": "stream",
     "text": [
      "196\t242\t3\t881250949\n",
      "186\t302\t3\t891717742\n",
      "22\t377\t1\t878887116\n",
      "244\t51\t2\t880606923\n",
      "166\t346\t1\t886397596\n",
      "298\t474\t4\t884182806\n",
      "115\t265\t2\t881171488\n",
      "253\t465\t5\t891628467\n",
      "305\t451\t3\t886324817\n",
      "6\t86\t3\t883603013\n"
     ]
    }
   ],
   "source": [
    "# u.data\n",
    "import pandas as pd\n",
    "!head 'u.data'\n",
    "\n",
    "\n",
    "#ratings = pd.read_csv('u.data', sep='\\t', header=None,names=['userID', 'movieID', 'rating', 'timestamp'])\n"
   ]
  },
  {
   "cell_type": "code",
   "execution_count": 80,
   "metadata": {
    "colab": {
     "base_uri": "https://localhost:8080/"
    },
    "id": "dckMko0o9t-D",
    "outputId": "cae3c6c6-7a09-470c-81cd-4cada2fbaee8"
   },
   "outputs": [
    {
     "name": "stdout",
     "output_type": "stream",
     "text": [
      "1|Toy Story (1995)|01-Jan-1995||http://us.imdb.com/M/title-exact?Toy%20Story%20(1995)|0|0|0|1|1|1|0|0|0|0|0|0|0|0|0|0|0|0|0\n",
      "2|GoldenEye (1995)|01-Jan-1995||http://us.imdb.com/M/title-exact?GoldenEye%20(1995)|0|1|1|0|0|0|0|0|0|0|0|0|0|0|0|0|1|0|0\n",
      "3|Four Rooms (1995)|01-Jan-1995||http://us.imdb.com/M/title-exact?Four%20Rooms%20(1995)|0|0|0|0|0|0|0|0|0|0|0|0|0|0|0|0|1|0|0\n",
      "4|Get Shorty (1995)|01-Jan-1995||http://us.imdb.com/M/title-exact?Get%20Shorty%20(1995)|0|1|0|0|0|1|0|0|1|0|0|0|0|0|0|0|0|0|0\n",
      "5|Copycat (1995)|01-Jan-1995||http://us.imdb.com/M/title-exact?Copycat%20(1995)|0|0|0|0|0|0|1|0|1|0|0|0|0|0|0|0|1|0|0\n",
      "6|Shanghai Triad (Yao a yao yao dao waipo qiao) (1995)|01-Jan-1995||http://us.imdb.com/Title?Yao+a+yao+yao+dao+waipo+qiao+(1995)|0|0|0|0|0|0|0|0|1|0|0|0|0|0|0|0|0|0|0\n",
      "7|Twelve Monkeys (1995)|01-Jan-1995||http://us.imdb.com/M/title-exact?Twelve%20Monkeys%20(1995)|0|0|0|0|0|0|0|0|1|0|0|0|0|0|0|1|0|0|0\n",
      "8|Babe (1995)|01-Jan-1995||http://us.imdb.com/M/title-exact?Babe%20(1995)|0|0|0|0|1|1|0|0|1|0|0|0|0|0|0|0|0|0|0\n",
      "9|Dead Man Walking (1995)|01-Jan-1995||http://us.imdb.com/M/title-exact?Dead%20Man%20Walking%20(1995)|0|0|0|0|0|0|0|0|1|0|0|0|0|0|0|0|0|0|0\n",
      "10|Richard III (1995)|22-Jan-1996||http://us.imdb.com/M/title-exact?Richard%20III%20(1995)|0|0|0|0|0|0|0|0|1|0|0|0|0|0|0|0|0|1|0\n"
     ]
    }
   ],
   "source": [
    "# u.item\n",
    "!head 'u.item'\n",
    "# movies = pd.read_csv('u.item', sep='|', header=None, encoding='latin-1',\n",
    "#                      names=['movieID', 'movieTitle', 'releaseDate', 'videoReleaseDate',\n",
    "#                             'IMDbURL', 'unknown', 'Action', 'Adventure', 'Animation',\n",
    "#                             \"Children's\", 'Comedy', 'Crime', 'Documentary', 'Drama',\n",
    "#                             'Fantasy', 'Film-Noir', 'Horror', 'Musical', 'Mystery',\n",
    "#                             'Romance', 'Sci-Fi', 'Thriller', 'War', 'Western'])\n"
   ]
  },
  {
   "cell_type": "code",
   "execution_count": 81,
   "metadata": {
    "colab": {
     "base_uri": "https://localhost:8080/"
    },
    "id": "R7kBwpsi-WKB",
    "outputId": "e84d4cf2-7b11-4b81-dc52-33edb6e96313"
   },
   "outputs": [
    {
     "name": "stdout",
     "output_type": "stream",
     "text": [
      "1|24|M|technician|85711\n",
      "2|53|F|other|94043\n",
      "3|23|M|writer|32067\n",
      "4|24|M|technician|43537\n",
      "5|33|F|other|15213\n",
      "6|42|M|executive|98101\n",
      "7|57|M|administrator|91344\n",
      "8|36|M|administrator|05201\n",
      "9|29|M|student|01002\n",
      "10|53|M|lawyer|90703\n"
     ]
    }
   ],
   "source": [
    "# u.user\n",
    "!head 'u.user'\n",
    "# users = pd.read_csv('u.user', sep='|', header=None,\n",
    "#                     names=['userID', 'age', 'gender', 'occupation', 'zip_code'])\n"
   ]
  },
  {
   "cell_type": "markdown",
   "metadata": {
    "id": "YnryIHO7-db3"
   },
   "source": [
    "#### Loading the Dataset with Pandas"
   ]
  },
  {
   "cell_type": "markdown",
   "metadata": {
    "id": "Jwmza7riBj30"
   },
   "source": [
    "Use **pandas** to load the dataset into a DataFrame for analysis. Follow these steps:  \n",
    "\n",
    "1. Import the necessary library: `pandas`.  \n",
    "2. Use `pd.read_csv()` (or an appropriate function) to read the dataset file.  \n",
    "3. Ensure the dataset is loaded with the correct delimiter (e.g., `','`, `'\\t'`,`'|'` , or another separator if needed).  \n",
    "4. Select and display the first few rows using `.head()`."
   ]
  },
  {
   "cell_type": "markdown",
   "metadata": {
    "id": "KPEDYYGOBOSD"
   },
   "source": [
    "Ensure that:  \n",
    "\n",
    "- The `ratings` dataset is read from `\"u.data\"` using tab (`'\\t'`) as a separator and column names (`\"user_id\"`, `\"movie_id\"`, `\"rating\"` and `\"timestamp\"`).  \n",
    "- The `movies` dataset is read from `\"u.item\"` using `'|'` as a separator, use columns (`0`, `1`, `2`), encoding (`\"latin-1\"`) and name the columns (`movie_id`, `title`, and `release_date`).  \n",
    "- The `users` dataset is read from `\"u.user\"` using `'|'` as a separator, use columns (`0`, `1`, `2`, `3`) and name the columns (`user_id`, `age`, `gender`, and `occupation`)."
   ]
  },
  {
   "cell_type": "code",
   "execution_count": 85,
   "metadata": {
    "colab": {
     "base_uri": "https://localhost:8080/"
    },
    "id": "Go-Y-Ofy-ZTk",
    "outputId": "ee78746b-9513-45e7-808c-2cd1fd4aa459"
   },
   "outputs": [
    {
     "name": "stdout",
     "output_type": "stream",
     "text": [
      "\n",
      "Ratings Dataset:\n",
      "   user_id  movie_id  rating  timestamp\n",
      "0      196       242       3  881250949\n",
      "1      186       302       3  891717742\n",
      "2       22       377       1  878887116\n",
      "3      244        51       2  880606923\n",
      "4      166       346       1  886397596\n"
     ]
    }
   ],
   "source": [
    "# ratings\n",
    "ratings_columns = ['user_id', 'movie_id', 'rating', 'timestamp']\n",
    "ratings = pd.read_csv(\n",
    "    'u.data',\n",
    "    sep='\\t',\n",
    "    header=None,\n",
    "    names=ratings_columns\n",
    ")\n",
    "# Display first few rows\n",
    "print(\"\\nRatings Dataset:\")\n",
    "print(ratings.head())"
   ]
  },
  {
   "cell_type": "code",
   "execution_count": 86,
   "metadata": {
    "colab": {
     "base_uri": "https://localhost:8080/"
    },
    "id": "zM8IJGh-CLN5",
    "outputId": "4bdbc7c5-2958-4ede-f55c-5e6302f3e85b"
   },
   "outputs": [
    {
     "name": "stdout",
     "output_type": "stream",
     "text": [
      "Movies Dataset:\n",
      "   movie_id              title release_date\n",
      "0         1   Toy Story (1995)  01-Jan-1995\n",
      "1         2   GoldenEye (1995)  01-Jan-1995\n",
      "2         3  Four Rooms (1995)  01-Jan-1995\n",
      "3         4  Get Shorty (1995)  01-Jan-1995\n",
      "4         5     Copycat (1995)  01-Jan-1995\n"
     ]
    }
   ],
   "source": [
    "# movies\n",
    "movies_columns = ['movie_id', 'title', 'release_date']\n",
    "movies = pd.read_csv(\n",
    "    'u.item',\n",
    "    sep='|',\n",
    "    header=None,\n",
    "    encoding='latin-1',\n",
    "    usecols=[0, 1, 2], names=movies_columns\n",
    ")\n",
    "# Display first few rows\n",
    "print(\"Movies Dataset:\")\n",
    "print(movies.head())"
   ]
  },
  {
   "cell_type": "code",
   "execution_count": 87,
   "metadata": {
    "colab": {
     "base_uri": "https://localhost:8080/"
    },
    "id": "hsekVjevCNKj",
    "outputId": "876776bb-aaf8-4e61-b182-f8406dcc2357"
   },
   "outputs": [
    {
     "name": "stdout",
     "output_type": "stream",
     "text": [
      "Users Dataset:\n",
      "   user_id  age gender  occupation\n",
      "0        1   24      M  technician\n",
      "1        2   53      F       other\n",
      "2        3   23      M      writer\n",
      "3        4   24      M  technician\n",
      "4        5   33      F       other\n"
     ]
    }
   ],
   "source": [
    "# users\n",
    "users_columns = ['user_id', 'age', 'gender', 'occupation']\n",
    "users = pd.read_csv(\n",
    "    'u.user',\n",
    "    sep='|',\n",
    "    header=None,\n",
    "    usecols=[0, 1, 2, 3],names=users_columns\n",
    ")\n",
    "# Display first few rows\n",
    "print(\"Users Dataset:\")\n",
    "print(users.head())"
   ]
  },
  {
   "cell_type": "markdown",
   "metadata": {
    "id": "ulxTLc7zhXrq"
   },
   "source": [
    "This helps preserve cleaned data for reproducibility and quick reloading in future sessions.\n"
   ]
  },
  {
   "cell_type": "markdown",
   "metadata": {
    "id": "jE5OHLqt7xeq"
   },
   "source": [
    "**Note:** As a **Bonus** task save the `ratings`, `movies` and `users` dataframe created into a `.csv` file format. <br>\n",
    "**Hint:** Use the `to_csv()` function in pandas to save these DataFrames as CSV files."
   ]
  },
  {
   "cell_type": "code",
   "execution_count": 90,
   "metadata": {
    "id": "Chyv3c4n8wVC"
   },
   "outputs": [],
   "source": [
    "# ratings\n",
    "ratings.to_csv('ratings.csv', index=False)"
   ]
  },
  {
   "cell_type": "code",
   "execution_count": 91,
   "metadata": {
    "id": "Gl7zVV3y8wKU"
   },
   "outputs": [],
   "source": [
    "# movies\n",
    "movies.to_csv('movies.csv', index=False)"
   ]
  },
  {
   "cell_type": "code",
   "execution_count": 92,
   "metadata": {
    "id": "0YwVuebp8u46"
   },
   "outputs": [],
   "source": [
    "# users\n",
    "users.to_csv('users.csv', index=False)"
   ]
  },
  {
   "cell_type": "markdown",
   "metadata": {
    "id": "s3S1y82cCYxx"
   },
   "source": [
    "**Display the first 10 rows of each file.**"
   ]
  },
  {
   "cell_type": "code",
   "execution_count": 94,
   "metadata": {
    "colab": {
     "base_uri": "https://localhost:8080/",
     "height": 363
    },
    "id": "x5ZOXTqnCPgw",
    "outputId": "55a50e2b-0ef4-4184-aee6-71c5e0ff74c7"
   },
   "outputs": [
    {
     "data": {
      "text/html": [
       "<div>\n",
       "<style scoped>\n",
       "    .dataframe tbody tr th:only-of-type {\n",
       "        vertical-align: middle;\n",
       "    }\n",
       "\n",
       "    .dataframe tbody tr th {\n",
       "        vertical-align: top;\n",
       "    }\n",
       "\n",
       "    .dataframe thead th {\n",
       "        text-align: right;\n",
       "    }\n",
       "</style>\n",
       "<table border=\"1\" class=\"dataframe\">\n",
       "  <thead>\n",
       "    <tr style=\"text-align: right;\">\n",
       "      <th></th>\n",
       "      <th>user_id</th>\n",
       "      <th>movie_id</th>\n",
       "      <th>rating</th>\n",
       "      <th>timestamp</th>\n",
       "    </tr>\n",
       "  </thead>\n",
       "  <tbody>\n",
       "    <tr>\n",
       "      <th>0</th>\n",
       "      <td>196</td>\n",
       "      <td>242</td>\n",
       "      <td>3</td>\n",
       "      <td>881250949</td>\n",
       "    </tr>\n",
       "    <tr>\n",
       "      <th>1</th>\n",
       "      <td>186</td>\n",
       "      <td>302</td>\n",
       "      <td>3</td>\n",
       "      <td>891717742</td>\n",
       "    </tr>\n",
       "    <tr>\n",
       "      <th>2</th>\n",
       "      <td>22</td>\n",
       "      <td>377</td>\n",
       "      <td>1</td>\n",
       "      <td>878887116</td>\n",
       "    </tr>\n",
       "    <tr>\n",
       "      <th>3</th>\n",
       "      <td>244</td>\n",
       "      <td>51</td>\n",
       "      <td>2</td>\n",
       "      <td>880606923</td>\n",
       "    </tr>\n",
       "    <tr>\n",
       "      <th>4</th>\n",
       "      <td>166</td>\n",
       "      <td>346</td>\n",
       "      <td>1</td>\n",
       "      <td>886397596</td>\n",
       "    </tr>\n",
       "    <tr>\n",
       "      <th>5</th>\n",
       "      <td>298</td>\n",
       "      <td>474</td>\n",
       "      <td>4</td>\n",
       "      <td>884182806</td>\n",
       "    </tr>\n",
       "    <tr>\n",
       "      <th>6</th>\n",
       "      <td>115</td>\n",
       "      <td>265</td>\n",
       "      <td>2</td>\n",
       "      <td>881171488</td>\n",
       "    </tr>\n",
       "    <tr>\n",
       "      <th>7</th>\n",
       "      <td>253</td>\n",
       "      <td>465</td>\n",
       "      <td>5</td>\n",
       "      <td>891628467</td>\n",
       "    </tr>\n",
       "    <tr>\n",
       "      <th>8</th>\n",
       "      <td>305</td>\n",
       "      <td>451</td>\n",
       "      <td>3</td>\n",
       "      <td>886324817</td>\n",
       "    </tr>\n",
       "    <tr>\n",
       "      <th>9</th>\n",
       "      <td>6</td>\n",
       "      <td>86</td>\n",
       "      <td>3</td>\n",
       "      <td>883603013</td>\n",
       "    </tr>\n",
       "  </tbody>\n",
       "</table>\n",
       "</div>"
      ],
      "text/plain": [
       "   user_id  movie_id  rating  timestamp\n",
       "0      196       242       3  881250949\n",
       "1      186       302       3  891717742\n",
       "2       22       377       1  878887116\n",
       "3      244        51       2  880606923\n",
       "4      166       346       1  886397596\n",
       "5      298       474       4  884182806\n",
       "6      115       265       2  881171488\n",
       "7      253       465       5  891628467\n",
       "8      305       451       3  886324817\n",
       "9        6        86       3  883603013"
      ]
     },
     "execution_count": 94,
     "metadata": {},
     "output_type": "execute_result"
    }
   ],
   "source": [
    "# ratings\n",
    "ratings_csv=pd.read_csv('ratings.csv')\n",
    "ratings_csv.head(10)"
   ]
  },
  {
   "cell_type": "code",
   "execution_count": 95,
   "metadata": {
    "colab": {
     "base_uri": "https://localhost:8080/",
     "height": 363
    },
    "id": "AzuqiRkrCdfZ",
    "outputId": "226c36cb-bf38-4cdb-ee28-f7a3c098ded8"
   },
   "outputs": [
    {
     "data": {
      "text/html": [
       "<div>\n",
       "<style scoped>\n",
       "    .dataframe tbody tr th:only-of-type {\n",
       "        vertical-align: middle;\n",
       "    }\n",
       "\n",
       "    .dataframe tbody tr th {\n",
       "        vertical-align: top;\n",
       "    }\n",
       "\n",
       "    .dataframe thead th {\n",
       "        text-align: right;\n",
       "    }\n",
       "</style>\n",
       "<table border=\"1\" class=\"dataframe\">\n",
       "  <thead>\n",
       "    <tr style=\"text-align: right;\">\n",
       "      <th></th>\n",
       "      <th>movie_id</th>\n",
       "      <th>title</th>\n",
       "      <th>release_date</th>\n",
       "    </tr>\n",
       "  </thead>\n",
       "  <tbody>\n",
       "    <tr>\n",
       "      <th>0</th>\n",
       "      <td>1</td>\n",
       "      <td>Toy Story (1995)</td>\n",
       "      <td>01-Jan-1995</td>\n",
       "    </tr>\n",
       "    <tr>\n",
       "      <th>1</th>\n",
       "      <td>2</td>\n",
       "      <td>GoldenEye (1995)</td>\n",
       "      <td>01-Jan-1995</td>\n",
       "    </tr>\n",
       "    <tr>\n",
       "      <th>2</th>\n",
       "      <td>3</td>\n",
       "      <td>Four Rooms (1995)</td>\n",
       "      <td>01-Jan-1995</td>\n",
       "    </tr>\n",
       "    <tr>\n",
       "      <th>3</th>\n",
       "      <td>4</td>\n",
       "      <td>Get Shorty (1995)</td>\n",
       "      <td>01-Jan-1995</td>\n",
       "    </tr>\n",
       "    <tr>\n",
       "      <th>4</th>\n",
       "      <td>5</td>\n",
       "      <td>Copycat (1995)</td>\n",
       "      <td>01-Jan-1995</td>\n",
       "    </tr>\n",
       "    <tr>\n",
       "      <th>5</th>\n",
       "      <td>6</td>\n",
       "      <td>Shanghai Triad (Yao a yao yao dao waipo qiao) ...</td>\n",
       "      <td>01-Jan-1995</td>\n",
       "    </tr>\n",
       "    <tr>\n",
       "      <th>6</th>\n",
       "      <td>7</td>\n",
       "      <td>Twelve Monkeys (1995)</td>\n",
       "      <td>01-Jan-1995</td>\n",
       "    </tr>\n",
       "    <tr>\n",
       "      <th>7</th>\n",
       "      <td>8</td>\n",
       "      <td>Babe (1995)</td>\n",
       "      <td>01-Jan-1995</td>\n",
       "    </tr>\n",
       "    <tr>\n",
       "      <th>8</th>\n",
       "      <td>9</td>\n",
       "      <td>Dead Man Walking (1995)</td>\n",
       "      <td>01-Jan-1995</td>\n",
       "    </tr>\n",
       "    <tr>\n",
       "      <th>9</th>\n",
       "      <td>10</td>\n",
       "      <td>Richard III (1995)</td>\n",
       "      <td>22-Jan-1996</td>\n",
       "    </tr>\n",
       "  </tbody>\n",
       "</table>\n",
       "</div>"
      ],
      "text/plain": [
       "   movie_id                                              title release_date\n",
       "0         1                                   Toy Story (1995)  01-Jan-1995\n",
       "1         2                                   GoldenEye (1995)  01-Jan-1995\n",
       "2         3                                  Four Rooms (1995)  01-Jan-1995\n",
       "3         4                                  Get Shorty (1995)  01-Jan-1995\n",
       "4         5                                     Copycat (1995)  01-Jan-1995\n",
       "5         6  Shanghai Triad (Yao a yao yao dao waipo qiao) ...  01-Jan-1995\n",
       "6         7                              Twelve Monkeys (1995)  01-Jan-1995\n",
       "7         8                                        Babe (1995)  01-Jan-1995\n",
       "8         9                            Dead Man Walking (1995)  01-Jan-1995\n",
       "9        10                                 Richard III (1995)  22-Jan-1996"
      ]
     },
     "execution_count": 95,
     "metadata": {},
     "output_type": "execute_result"
    }
   ],
   "source": [
    "# movies\n",
    "movies_csv=pd.read_csv('movies.csv')\n",
    "movies_csv.head(10)"
   ]
  },
  {
   "cell_type": "code",
   "execution_count": 96,
   "metadata": {
    "colab": {
     "base_uri": "https://localhost:8080/",
     "height": 363
    },
    "id": "FE9hcM9mCewe",
    "outputId": "2c799816-b2fd-4664-ad60-eb99fd1d32bc"
   },
   "outputs": [
    {
     "data": {
      "text/html": [
       "<div>\n",
       "<style scoped>\n",
       "    .dataframe tbody tr th:only-of-type {\n",
       "        vertical-align: middle;\n",
       "    }\n",
       "\n",
       "    .dataframe tbody tr th {\n",
       "        vertical-align: top;\n",
       "    }\n",
       "\n",
       "    .dataframe thead th {\n",
       "        text-align: right;\n",
       "    }\n",
       "</style>\n",
       "<table border=\"1\" class=\"dataframe\">\n",
       "  <thead>\n",
       "    <tr style=\"text-align: right;\">\n",
       "      <th></th>\n",
       "      <th>user_id</th>\n",
       "      <th>age</th>\n",
       "      <th>gender</th>\n",
       "      <th>occupation</th>\n",
       "    </tr>\n",
       "  </thead>\n",
       "  <tbody>\n",
       "    <tr>\n",
       "      <th>0</th>\n",
       "      <td>1</td>\n",
       "      <td>24</td>\n",
       "      <td>M</td>\n",
       "      <td>technician</td>\n",
       "    </tr>\n",
       "    <tr>\n",
       "      <th>1</th>\n",
       "      <td>2</td>\n",
       "      <td>53</td>\n",
       "      <td>F</td>\n",
       "      <td>other</td>\n",
       "    </tr>\n",
       "    <tr>\n",
       "      <th>2</th>\n",
       "      <td>3</td>\n",
       "      <td>23</td>\n",
       "      <td>M</td>\n",
       "      <td>writer</td>\n",
       "    </tr>\n",
       "    <tr>\n",
       "      <th>3</th>\n",
       "      <td>4</td>\n",
       "      <td>24</td>\n",
       "      <td>M</td>\n",
       "      <td>technician</td>\n",
       "    </tr>\n",
       "    <tr>\n",
       "      <th>4</th>\n",
       "      <td>5</td>\n",
       "      <td>33</td>\n",
       "      <td>F</td>\n",
       "      <td>other</td>\n",
       "    </tr>\n",
       "    <tr>\n",
       "      <th>5</th>\n",
       "      <td>6</td>\n",
       "      <td>42</td>\n",
       "      <td>M</td>\n",
       "      <td>executive</td>\n",
       "    </tr>\n",
       "    <tr>\n",
       "      <th>6</th>\n",
       "      <td>7</td>\n",
       "      <td>57</td>\n",
       "      <td>M</td>\n",
       "      <td>administrator</td>\n",
       "    </tr>\n",
       "    <tr>\n",
       "      <th>7</th>\n",
       "      <td>8</td>\n",
       "      <td>36</td>\n",
       "      <td>M</td>\n",
       "      <td>administrator</td>\n",
       "    </tr>\n",
       "    <tr>\n",
       "      <th>8</th>\n",
       "      <td>9</td>\n",
       "      <td>29</td>\n",
       "      <td>M</td>\n",
       "      <td>student</td>\n",
       "    </tr>\n",
       "    <tr>\n",
       "      <th>9</th>\n",
       "      <td>10</td>\n",
       "      <td>53</td>\n",
       "      <td>M</td>\n",
       "      <td>lawyer</td>\n",
       "    </tr>\n",
       "  </tbody>\n",
       "</table>\n",
       "</div>"
      ],
      "text/plain": [
       "   user_id  age gender     occupation\n",
       "0        1   24      M     technician\n",
       "1        2   53      F          other\n",
       "2        3   23      M         writer\n",
       "3        4   24      M     technician\n",
       "4        5   33      F          other\n",
       "5        6   42      M      executive\n",
       "6        7   57      M  administrator\n",
       "7        8   36      M  administrator\n",
       "8        9   29      M        student\n",
       "9       10   53      M         lawyer"
      ]
     },
     "execution_count": 96,
     "metadata": {},
     "output_type": "execute_result"
    }
   ],
   "source": [
    "# users\n",
    "users_csv=pd.read_csv('users.csv')\n",
    "users_csv.head(10)"
   ]
  },
  {
   "cell_type": "markdown",
   "metadata": {
    "id": "i38iDIz-DiVj"
   },
   "source": [
    "### Data Cleaning and Exploration with Pandas  \n",
    "\n",
    "After loading the dataset, it’s important to clean and explore the data to ensure consistency and accuracy. Below are key **pandas** functions for cleaning and understanding the dataset.\n",
    "\n",
    "#### 1. Handle Missing Values  \n",
    "- `df.dropna()` – Removes rows with missing values.  \n",
    "- `df.fillna(value)` – Fills missing values with a specified value.  \n",
    "\n",
    "#### 2. Remove Duplicates  \n",
    "- `df.drop_duplicates()` – Drops duplicate rows from the dataset.  \n",
    "\n",
    "#### 3. Handle Incorrect Data Types  \n",
    "- `df.astype(dtype)` – Converts columns to the appropriate data type.  \n",
    "\n",
    "#### 4. Filter Outliers (if applicable)  \n",
    "- `df[df['column_name'] > threshold]` – Filters rows based on a condition.  \n",
    "\n",
    "#### 5. Rename Columns (if needed)  \n",
    "- `df.rename(columns={'old_name': 'new_name'})` – Renames columns for clarity.  \n",
    "\n",
    "#### 6. Reset Index  \n",
    "- `df.reset_index(drop=True, inplace=True)` – Resets the index after cleaning.  \n",
    "\n",
    "### Data Exploration Functions  \n",
    "\n",
    "To better understand the dataset, use these **pandas** functions:  \n",
    "\n",
    "- `df.shape` – Returns the number of rows and columns in the dataset.  \n",
    "- `df.nunique()` – Displays the number of unique values in each column.  \n",
    "- `df['column_name'].unique()` – Returns unique values in a specific column.  \n",
    "\n",
    "**Example Usage in Pandas:**  \n",
    "```python\n",
    "import pandas as pd\n",
    "\n",
    "# Load dataset\n",
    "df = pd.read_csv(\"your_file.csv\")\n",
    "\n",
    "# Drop missing values\n",
    "df_cleaned = df.dropna()\n",
    "\n",
    "# Remove duplicate rows\n",
    "df_cleaned = df_cleaned.drop_duplicates()\n",
    "\n",
    "# Convert 'timestamp' column to datetime format\n",
    "df_cleaned['timestamp'] = pd.to_datetime(df_cleaned['timestamp'])\n",
    "\n",
    "# Display dataset shape\n",
    "print(\"Dataset shape:\", df_cleaned.shape)\n",
    "\n",
    "# Display number of unique values in each column\n",
    "print(\"Unique values per column:\\n\", df_cleaned.nunique())\n",
    "\n",
    "# Display unique movie IDs\n",
    "print(\"Unique movie IDs:\", df_cleaned['movie_id'].unique()[:10])  # Show first 10 unique movie IDs\n"
   ]
  },
  {
   "cell_type": "markdown",
   "metadata": {
    "id": "4cwmLON4EItA"
   },
   "source": [
    "**Note:** The functions mentioned above are some of the widely used **pandas** functions for data cleaning and exploration. However, it is not necessary that all of these functions will be required in the exercises below. Use them as needed based on the dataset and the specific tasks."
   ]
  },
  {
   "cell_type": "markdown",
   "metadata": {
    "id": "Tn0bLOSACxMP"
   },
   "source": [
    "**Convert Timestamps into Readable dates.**"
   ]
  },
  {
   "cell_type": "code",
   "execution_count": 100,
   "metadata": {
    "colab": {
     "base_uri": "https://localhost:8080/",
     "height": 206
    },
    "id": "9MwnDxeeCf8b",
    "outputId": "995ed1f7-a9f7-4a70-90c8-8a606168eac0"
   },
   "outputs": [
    {
     "data": {
      "text/html": [
       "<div>\n",
       "<style scoped>\n",
       "    .dataframe tbody tr th:only-of-type {\n",
       "        vertical-align: middle;\n",
       "    }\n",
       "\n",
       "    .dataframe tbody tr th {\n",
       "        vertical-align: top;\n",
       "    }\n",
       "\n",
       "    .dataframe thead th {\n",
       "        text-align: right;\n",
       "    }\n",
       "</style>\n",
       "<table border=\"1\" class=\"dataframe\">\n",
       "  <thead>\n",
       "    <tr style=\"text-align: right;\">\n",
       "      <th></th>\n",
       "      <th>user_id</th>\n",
       "      <th>movie_id</th>\n",
       "      <th>rating</th>\n",
       "      <th>timestamp</th>\n",
       "    </tr>\n",
       "  </thead>\n",
       "  <tbody>\n",
       "    <tr>\n",
       "      <th>0</th>\n",
       "      <td>196</td>\n",
       "      <td>242</td>\n",
       "      <td>3</td>\n",
       "      <td>1997-12-04 15:55:49</td>\n",
       "    </tr>\n",
       "    <tr>\n",
       "      <th>1</th>\n",
       "      <td>186</td>\n",
       "      <td>302</td>\n",
       "      <td>3</td>\n",
       "      <td>1998-04-04 19:22:22</td>\n",
       "    </tr>\n",
       "    <tr>\n",
       "      <th>2</th>\n",
       "      <td>22</td>\n",
       "      <td>377</td>\n",
       "      <td>1</td>\n",
       "      <td>1997-11-07 07:18:36</td>\n",
       "    </tr>\n",
       "    <tr>\n",
       "      <th>3</th>\n",
       "      <td>244</td>\n",
       "      <td>51</td>\n",
       "      <td>2</td>\n",
       "      <td>1997-11-27 05:02:03</td>\n",
       "    </tr>\n",
       "    <tr>\n",
       "      <th>4</th>\n",
       "      <td>166</td>\n",
       "      <td>346</td>\n",
       "      <td>1</td>\n",
       "      <td>1998-02-02 05:33:16</td>\n",
       "    </tr>\n",
       "  </tbody>\n",
       "</table>\n",
       "</div>"
      ],
      "text/plain": [
       "   user_id  movie_id  rating           timestamp\n",
       "0      196       242       3 1997-12-04 15:55:49\n",
       "1      186       302       3 1998-04-04 19:22:22\n",
       "2       22       377       1 1997-11-07 07:18:36\n",
       "3      244        51       2 1997-11-27 05:02:03\n",
       "4      166       346       1 1998-02-02 05:33:16"
      ]
     },
     "execution_count": 100,
     "metadata": {},
     "output_type": "execute_result"
    }
   ],
   "source": [
    "# ratings\n",
    "ratings_df = pd.read_csv('ratings.csv')\n",
    "ratings_df['timestamp'] = pd.to_datetime(ratings_df['timestamp'], unit='s')\n",
    "ratings_df.head()"
   ]
  },
  {
   "cell_type": "markdown",
   "metadata": {
    "id": "oKJB0a9CE0Z4"
   },
   "source": [
    "**Check for Missing Values**"
   ]
  },
  {
   "cell_type": "code",
   "execution_count": 102,
   "metadata": {
    "colab": {
     "base_uri": "https://localhost:8080/"
    },
    "id": "iYf4NM47DL7q",
    "outputId": "14f1eb85-c3fb-49eb-8abc-e0f10976b5f8"
   },
   "outputs": [
    {
     "name": "stdout",
     "output_type": "stream",
     "text": [
      "Ratings missing values:\n",
      " user_id      0\n",
      "movie_id     0\n",
      "rating       0\n",
      "timestamp    0\n",
      "dtype: int64\n"
     ]
    }
   ],
   "source": [
    "# ratings\n",
    "print(\"Ratings missing values:\\n\",ratings_df.isnull().sum())"
   ]
  },
  {
   "cell_type": "code",
   "execution_count": 103,
   "metadata": {
    "colab": {
     "base_uri": "https://localhost:8080/"
    },
    "id": "hgM78fNaFH2q",
    "outputId": "f46ca486-3e24-4df6-a7e6-924e81b3b091"
   },
   "outputs": [
    {
     "name": "stdout",
     "output_type": "stream",
     "text": [
      "Movies missing values:\n",
      " movie_id        0\n",
      "title           0\n",
      "release_date    1\n",
      "dtype: int64\n"
     ]
    }
   ],
   "source": [
    "# movies\n",
    "movies_df = pd.read_csv('movies.csv')\n",
    "print(\"Movies missing values:\\n\",movies_df.isnull().sum())"
   ]
  },
  {
   "cell_type": "code",
   "execution_count": 104,
   "metadata": {
    "colab": {
     "base_uri": "https://localhost:8080/"
    },
    "id": "jE8J_cajFA5n",
    "outputId": "5ea937fd-5b0d-482b-b1b1-763c5ddbd038"
   },
   "outputs": [
    {
     "name": "stdout",
     "output_type": "stream",
     "text": [
      "Users missing values:\n",
      " user_id       0\n",
      "age           0\n",
      "gender        0\n",
      "occupation    0\n",
      "dtype: int64\n"
     ]
    }
   ],
   "source": [
    "# users\n",
    "users_df = pd.read_csv('users.csv')\n",
    "print(\"Users missing values:\\n\",users_df.isnull().sum())"
   ]
  },
  {
   "cell_type": "markdown",
   "metadata": {
    "id": "1WviFe7iFRoQ"
   },
   "source": [
    "**Print the total number of users, movies, and ratings.**"
   ]
  },
  {
   "cell_type": "code",
   "execution_count": 106,
   "metadata": {
    "colab": {
     "base_uri": "https://localhost:8080/"
    },
    "id": "eR_QgS9aFTPb",
    "outputId": "e564db98-6705-43dd-c8cc-fae67f88344a"
   },
   "outputs": [
    {
     "name": "stdout",
     "output_type": "stream",
     "text": [
      "Total Users: 943\n",
      "Total Movies: 1682\n",
      "Total Ratings: 100000\n"
     ]
    }
   ],
   "source": [
    "print(f\"Total Users: { len(users_df) }\")\n",
    "print(f\"Total Movies: { len(movies_df) }\")\n",
    "print(f\"Total Ratings: { len(ratings_df) }\")"
   ]
  },
  {
   "cell_type": "markdown",
   "metadata": {
    "id": "NjxACjUgFwsk"
   },
   "source": [
    "## **Part 2: Collaborative Filtering-Based Recommendation**"
   ]
  },
  {
   "cell_type": "markdown",
   "metadata": {
    "id": "AyeSaLpRGYuC"
   },
   "source": [
    "### **Create a User-Item Matrix**"
   ]
  },
  {
   "cell_type": "markdown",
   "metadata": {
    "id": "3tKsv-7XHRq2"
   },
   "source": [
    "#### Instructions for Creating a User-Movie Rating Matrix"
   ]
  },
  {
   "cell_type": "markdown",
   "metadata": {
    "id": "lLayr0YbH4tB"
   },
   "source": [
    "In this exercise, you will create a user-movie rating matrix using **pandas**. This matrix will represent the ratings that users have given to different movies.\n",
    "\n",
    "1. **Dataset Overview**:  \n",
    "   The dataset has already been loaded. It includes the following key columns:\n",
    "   - `user_id`: The ID of the user.\n",
    "   - `movie_id`: The ID of the movie.\n",
    "   - `ratings`: The rating the user gave to the movie.\n",
    "\n",
    "2. **Create the User-Movie Rating Matrix**:  \n",
    "   Use the **`pivot()`** function in **pandas** to reshape the data. Your goal is to create a matrix where:\n",
    "   - Each **row** represents a **user**.\n",
    "   - Each **column** represents a **movie**.\n",
    "   - Each **cell** contains the **rating** that the user has given to the movie.\n",
    "\n",
    "   Specify the following parameters for the `pivot()` function:\n",
    "   - **`index`**: The `user_id` column (this will define the rows).\n",
    "   - **`columns`**: The `movie_id` column (this will define the columns).\n",
    "   - **`values`**: The `rating` column (this will fill the matrix with ratings).\n",
    "\n",
    "3. **Inspect the Matrix**:  \n",
    "   After creating the matrix, examine the first few rows of the resulting matrix to ensure it has been constructed correctly.\n",
    "\n",
    "4. **Handle Missing Values**:  \n",
    "   It's likely that some users have not rated every movie, resulting in `NaN` values in the matrix. You will need to handle these missing values. Consider the following options:\n",
    "   - **Fill with 0**: If you wish to represent missing ratings as zeros (indicating no rating).\n",
    "   - **Fill with the average rating**: Alternatively, replace missing values with the average rating for each movie."
   ]
  },
  {
   "cell_type": "markdown",
   "metadata": {
    "id": "E_cdPXYeaD-l"
   },
   "source": [
    "**Create the user-movie rating matrix using the `pivot()` function.**"
   ]
  },
  {
   "cell_type": "code",
   "execution_count": 112,
   "metadata": {
    "id": "Ie858yKEUSfc"
   },
   "outputs": [],
   "source": [
    "user_movie_matrix =  ratings_df.pivot(index='user_id', columns='movie_id', values='rating')"
   ]
  },
  {
   "cell_type": "markdown",
   "metadata": {
    "id": "tyb3h9FmaVGH"
   },
   "source": [
    "**Display the matrix to verify the transformation.**"
   ]
  },
  {
   "cell_type": "code",
   "execution_count": 114,
   "metadata": {
    "colab": {
     "base_uri": "https://localhost:8080/",
     "height": 444
    },
    "id": "5PHZWkmevrUG",
    "outputId": "a96a06ab-4615-41d3-bc61-994caee5c4dc"
   },
   "outputs": [
    {
     "data": {
      "text/html": [
       "<div>\n",
       "<style scoped>\n",
       "    .dataframe tbody tr th:only-of-type {\n",
       "        vertical-align: middle;\n",
       "    }\n",
       "\n",
       "    .dataframe tbody tr th {\n",
       "        vertical-align: top;\n",
       "    }\n",
       "\n",
       "    .dataframe thead th {\n",
       "        text-align: right;\n",
       "    }\n",
       "</style>\n",
       "<table border=\"1\" class=\"dataframe\">\n",
       "  <thead>\n",
       "    <tr style=\"text-align: right;\">\n",
       "      <th>movie_id</th>\n",
       "      <th>1</th>\n",
       "      <th>2</th>\n",
       "      <th>3</th>\n",
       "      <th>4</th>\n",
       "      <th>5</th>\n",
       "      <th>6</th>\n",
       "      <th>7</th>\n",
       "      <th>8</th>\n",
       "      <th>9</th>\n",
       "      <th>10</th>\n",
       "      <th>...</th>\n",
       "      <th>1673</th>\n",
       "      <th>1674</th>\n",
       "      <th>1675</th>\n",
       "      <th>1676</th>\n",
       "      <th>1677</th>\n",
       "      <th>1678</th>\n",
       "      <th>1679</th>\n",
       "      <th>1680</th>\n",
       "      <th>1681</th>\n",
       "      <th>1682</th>\n",
       "    </tr>\n",
       "    <tr>\n",
       "      <th>user_id</th>\n",
       "      <th></th>\n",
       "      <th></th>\n",
       "      <th></th>\n",
       "      <th></th>\n",
       "      <th></th>\n",
       "      <th></th>\n",
       "      <th></th>\n",
       "      <th></th>\n",
       "      <th></th>\n",
       "      <th></th>\n",
       "      <th></th>\n",
       "      <th></th>\n",
       "      <th></th>\n",
       "      <th></th>\n",
       "      <th></th>\n",
       "      <th></th>\n",
       "      <th></th>\n",
       "      <th></th>\n",
       "      <th></th>\n",
       "      <th></th>\n",
       "      <th></th>\n",
       "    </tr>\n",
       "  </thead>\n",
       "  <tbody>\n",
       "    <tr>\n",
       "      <th>1</th>\n",
       "      <td>5.0</td>\n",
       "      <td>3.0</td>\n",
       "      <td>4.0</td>\n",
       "      <td>3.0</td>\n",
       "      <td>3.0</td>\n",
       "      <td>5.0</td>\n",
       "      <td>4.0</td>\n",
       "      <td>1.0</td>\n",
       "      <td>5.0</td>\n",
       "      <td>3.0</td>\n",
       "      <td>...</td>\n",
       "      <td>NaN</td>\n",
       "      <td>NaN</td>\n",
       "      <td>NaN</td>\n",
       "      <td>NaN</td>\n",
       "      <td>NaN</td>\n",
       "      <td>NaN</td>\n",
       "      <td>NaN</td>\n",
       "      <td>NaN</td>\n",
       "      <td>NaN</td>\n",
       "      <td>NaN</td>\n",
       "    </tr>\n",
       "    <tr>\n",
       "      <th>2</th>\n",
       "      <td>4.0</td>\n",
       "      <td>NaN</td>\n",
       "      <td>NaN</td>\n",
       "      <td>NaN</td>\n",
       "      <td>NaN</td>\n",
       "      <td>NaN</td>\n",
       "      <td>NaN</td>\n",
       "      <td>NaN</td>\n",
       "      <td>NaN</td>\n",
       "      <td>2.0</td>\n",
       "      <td>...</td>\n",
       "      <td>NaN</td>\n",
       "      <td>NaN</td>\n",
       "      <td>NaN</td>\n",
       "      <td>NaN</td>\n",
       "      <td>NaN</td>\n",
       "      <td>NaN</td>\n",
       "      <td>NaN</td>\n",
       "      <td>NaN</td>\n",
       "      <td>NaN</td>\n",
       "      <td>NaN</td>\n",
       "    </tr>\n",
       "    <tr>\n",
       "      <th>3</th>\n",
       "      <td>NaN</td>\n",
       "      <td>NaN</td>\n",
       "      <td>NaN</td>\n",
       "      <td>NaN</td>\n",
       "      <td>NaN</td>\n",
       "      <td>NaN</td>\n",
       "      <td>NaN</td>\n",
       "      <td>NaN</td>\n",
       "      <td>NaN</td>\n",
       "      <td>NaN</td>\n",
       "      <td>...</td>\n",
       "      <td>NaN</td>\n",
       "      <td>NaN</td>\n",
       "      <td>NaN</td>\n",
       "      <td>NaN</td>\n",
       "      <td>NaN</td>\n",
       "      <td>NaN</td>\n",
       "      <td>NaN</td>\n",
       "      <td>NaN</td>\n",
       "      <td>NaN</td>\n",
       "      <td>NaN</td>\n",
       "    </tr>\n",
       "    <tr>\n",
       "      <th>4</th>\n",
       "      <td>NaN</td>\n",
       "      <td>NaN</td>\n",
       "      <td>NaN</td>\n",
       "      <td>NaN</td>\n",
       "      <td>NaN</td>\n",
       "      <td>NaN</td>\n",
       "      <td>NaN</td>\n",
       "      <td>NaN</td>\n",
       "      <td>NaN</td>\n",
       "      <td>NaN</td>\n",
       "      <td>...</td>\n",
       "      <td>NaN</td>\n",
       "      <td>NaN</td>\n",
       "      <td>NaN</td>\n",
       "      <td>NaN</td>\n",
       "      <td>NaN</td>\n",
       "      <td>NaN</td>\n",
       "      <td>NaN</td>\n",
       "      <td>NaN</td>\n",
       "      <td>NaN</td>\n",
       "      <td>NaN</td>\n",
       "    </tr>\n",
       "    <tr>\n",
       "      <th>5</th>\n",
       "      <td>4.0</td>\n",
       "      <td>3.0</td>\n",
       "      <td>NaN</td>\n",
       "      <td>NaN</td>\n",
       "      <td>NaN</td>\n",
       "      <td>NaN</td>\n",
       "      <td>NaN</td>\n",
       "      <td>NaN</td>\n",
       "      <td>NaN</td>\n",
       "      <td>NaN</td>\n",
       "      <td>...</td>\n",
       "      <td>NaN</td>\n",
       "      <td>NaN</td>\n",
       "      <td>NaN</td>\n",
       "      <td>NaN</td>\n",
       "      <td>NaN</td>\n",
       "      <td>NaN</td>\n",
       "      <td>NaN</td>\n",
       "      <td>NaN</td>\n",
       "      <td>NaN</td>\n",
       "      <td>NaN</td>\n",
       "    </tr>\n",
       "    <tr>\n",
       "      <th>6</th>\n",
       "      <td>4.0</td>\n",
       "      <td>NaN</td>\n",
       "      <td>NaN</td>\n",
       "      <td>NaN</td>\n",
       "      <td>NaN</td>\n",
       "      <td>NaN</td>\n",
       "      <td>2.0</td>\n",
       "      <td>4.0</td>\n",
       "      <td>4.0</td>\n",
       "      <td>NaN</td>\n",
       "      <td>...</td>\n",
       "      <td>NaN</td>\n",
       "      <td>NaN</td>\n",
       "      <td>NaN</td>\n",
       "      <td>NaN</td>\n",
       "      <td>NaN</td>\n",
       "      <td>NaN</td>\n",
       "      <td>NaN</td>\n",
       "      <td>NaN</td>\n",
       "      <td>NaN</td>\n",
       "      <td>NaN</td>\n",
       "    </tr>\n",
       "    <tr>\n",
       "      <th>7</th>\n",
       "      <td>NaN</td>\n",
       "      <td>NaN</td>\n",
       "      <td>NaN</td>\n",
       "      <td>5.0</td>\n",
       "      <td>NaN</td>\n",
       "      <td>NaN</td>\n",
       "      <td>5.0</td>\n",
       "      <td>5.0</td>\n",
       "      <td>5.0</td>\n",
       "      <td>4.0</td>\n",
       "      <td>...</td>\n",
       "      <td>NaN</td>\n",
       "      <td>NaN</td>\n",
       "      <td>NaN</td>\n",
       "      <td>NaN</td>\n",
       "      <td>NaN</td>\n",
       "      <td>NaN</td>\n",
       "      <td>NaN</td>\n",
       "      <td>NaN</td>\n",
       "      <td>NaN</td>\n",
       "      <td>NaN</td>\n",
       "    </tr>\n",
       "    <tr>\n",
       "      <th>8</th>\n",
       "      <td>NaN</td>\n",
       "      <td>NaN</td>\n",
       "      <td>NaN</td>\n",
       "      <td>NaN</td>\n",
       "      <td>NaN</td>\n",
       "      <td>NaN</td>\n",
       "      <td>3.0</td>\n",
       "      <td>NaN</td>\n",
       "      <td>NaN</td>\n",
       "      <td>NaN</td>\n",
       "      <td>...</td>\n",
       "      <td>NaN</td>\n",
       "      <td>NaN</td>\n",
       "      <td>NaN</td>\n",
       "      <td>NaN</td>\n",
       "      <td>NaN</td>\n",
       "      <td>NaN</td>\n",
       "      <td>NaN</td>\n",
       "      <td>NaN</td>\n",
       "      <td>NaN</td>\n",
       "      <td>NaN</td>\n",
       "    </tr>\n",
       "    <tr>\n",
       "      <th>9</th>\n",
       "      <td>NaN</td>\n",
       "      <td>NaN</td>\n",
       "      <td>NaN</td>\n",
       "      <td>NaN</td>\n",
       "      <td>NaN</td>\n",
       "      <td>5.0</td>\n",
       "      <td>4.0</td>\n",
       "      <td>NaN</td>\n",
       "      <td>NaN</td>\n",
       "      <td>NaN</td>\n",
       "      <td>...</td>\n",
       "      <td>NaN</td>\n",
       "      <td>NaN</td>\n",
       "      <td>NaN</td>\n",
       "      <td>NaN</td>\n",
       "      <td>NaN</td>\n",
       "      <td>NaN</td>\n",
       "      <td>NaN</td>\n",
       "      <td>NaN</td>\n",
       "      <td>NaN</td>\n",
       "      <td>NaN</td>\n",
       "    </tr>\n",
       "    <tr>\n",
       "      <th>10</th>\n",
       "      <td>4.0</td>\n",
       "      <td>NaN</td>\n",
       "      <td>NaN</td>\n",
       "      <td>4.0</td>\n",
       "      <td>NaN</td>\n",
       "      <td>NaN</td>\n",
       "      <td>4.0</td>\n",
       "      <td>NaN</td>\n",
       "      <td>4.0</td>\n",
       "      <td>NaN</td>\n",
       "      <td>...</td>\n",
       "      <td>NaN</td>\n",
       "      <td>NaN</td>\n",
       "      <td>NaN</td>\n",
       "      <td>NaN</td>\n",
       "      <td>NaN</td>\n",
       "      <td>NaN</td>\n",
       "      <td>NaN</td>\n",
       "      <td>NaN</td>\n",
       "      <td>NaN</td>\n",
       "      <td>NaN</td>\n",
       "    </tr>\n",
       "  </tbody>\n",
       "</table>\n",
       "<p>10 rows × 1682 columns</p>\n",
       "</div>"
      ],
      "text/plain": [
       "movie_id  1     2     3     4     5     6     7     8     9     10    ...  \\\n",
       "user_id                                                               ...   \n",
       "1          5.0   3.0   4.0   3.0   3.0   5.0   4.0   1.0   5.0   3.0  ...   \n",
       "2          4.0   NaN   NaN   NaN   NaN   NaN   NaN   NaN   NaN   2.0  ...   \n",
       "3          NaN   NaN   NaN   NaN   NaN   NaN   NaN   NaN   NaN   NaN  ...   \n",
       "4          NaN   NaN   NaN   NaN   NaN   NaN   NaN   NaN   NaN   NaN  ...   \n",
       "5          4.0   3.0   NaN   NaN   NaN   NaN   NaN   NaN   NaN   NaN  ...   \n",
       "6          4.0   NaN   NaN   NaN   NaN   NaN   2.0   4.0   4.0   NaN  ...   \n",
       "7          NaN   NaN   NaN   5.0   NaN   NaN   5.0   5.0   5.0   4.0  ...   \n",
       "8          NaN   NaN   NaN   NaN   NaN   NaN   3.0   NaN   NaN   NaN  ...   \n",
       "9          NaN   NaN   NaN   NaN   NaN   5.0   4.0   NaN   NaN   NaN  ...   \n",
       "10         4.0   NaN   NaN   4.0   NaN   NaN   4.0   NaN   4.0   NaN  ...   \n",
       "\n",
       "movie_id  1673  1674  1675  1676  1677  1678  1679  1680  1681  1682  \n",
       "user_id                                                               \n",
       "1          NaN   NaN   NaN   NaN   NaN   NaN   NaN   NaN   NaN   NaN  \n",
       "2          NaN   NaN   NaN   NaN   NaN   NaN   NaN   NaN   NaN   NaN  \n",
       "3          NaN   NaN   NaN   NaN   NaN   NaN   NaN   NaN   NaN   NaN  \n",
       "4          NaN   NaN   NaN   NaN   NaN   NaN   NaN   NaN   NaN   NaN  \n",
       "5          NaN   NaN   NaN   NaN   NaN   NaN   NaN   NaN   NaN   NaN  \n",
       "6          NaN   NaN   NaN   NaN   NaN   NaN   NaN   NaN   NaN   NaN  \n",
       "7          NaN   NaN   NaN   NaN   NaN   NaN   NaN   NaN   NaN   NaN  \n",
       "8          NaN   NaN   NaN   NaN   NaN   NaN   NaN   NaN   NaN   NaN  \n",
       "9          NaN   NaN   NaN   NaN   NaN   NaN   NaN   NaN   NaN   NaN  \n",
       "10         NaN   NaN   NaN   NaN   NaN   NaN   NaN   NaN   NaN   NaN  \n",
       "\n",
       "[10 rows x 1682 columns]"
      ]
     },
     "execution_count": 114,
     "metadata": {},
     "output_type": "execute_result"
    }
   ],
   "source": [
    "user_movie_matrix.head(10)"
   ]
  },
  {
   "cell_type": "code",
   "execution_count": 115,
   "metadata": {
    "colab": {
     "base_uri": "https://localhost:8080/",
     "height": 444
    },
    "id": "16abaOrXabN_",
    "outputId": "b5b2213c-2eee-4094-9209-a644f7887ac5"
   },
   "outputs": [
    {
     "data": {
      "text/html": [
       "<div>\n",
       "<style scoped>\n",
       "    .dataframe tbody tr th:only-of-type {\n",
       "        vertical-align: middle;\n",
       "    }\n",
       "\n",
       "    .dataframe tbody tr th {\n",
       "        vertical-align: top;\n",
       "    }\n",
       "\n",
       "    .dataframe thead th {\n",
       "        text-align: right;\n",
       "    }\n",
       "</style>\n",
       "<table border=\"1\" class=\"dataframe\">\n",
       "  <thead>\n",
       "    <tr style=\"text-align: right;\">\n",
       "      <th>movie_id</th>\n",
       "      <th>1</th>\n",
       "      <th>2</th>\n",
       "      <th>3</th>\n",
       "      <th>4</th>\n",
       "      <th>5</th>\n",
       "      <th>6</th>\n",
       "      <th>7</th>\n",
       "      <th>8</th>\n",
       "      <th>9</th>\n",
       "      <th>10</th>\n",
       "      <th>...</th>\n",
       "      <th>1673</th>\n",
       "      <th>1674</th>\n",
       "      <th>1675</th>\n",
       "      <th>1676</th>\n",
       "      <th>1677</th>\n",
       "      <th>1678</th>\n",
       "      <th>1679</th>\n",
       "      <th>1680</th>\n",
       "      <th>1681</th>\n",
       "      <th>1682</th>\n",
       "    </tr>\n",
       "    <tr>\n",
       "      <th>user_id</th>\n",
       "      <th></th>\n",
       "      <th></th>\n",
       "      <th></th>\n",
       "      <th></th>\n",
       "      <th></th>\n",
       "      <th></th>\n",
       "      <th></th>\n",
       "      <th></th>\n",
       "      <th></th>\n",
       "      <th></th>\n",
       "      <th></th>\n",
       "      <th></th>\n",
       "      <th></th>\n",
       "      <th></th>\n",
       "      <th></th>\n",
       "      <th></th>\n",
       "      <th></th>\n",
       "      <th></th>\n",
       "      <th></th>\n",
       "      <th></th>\n",
       "      <th></th>\n",
       "    </tr>\n",
       "  </thead>\n",
       "  <tbody>\n",
       "    <tr>\n",
       "      <th>1</th>\n",
       "      <td>5.0</td>\n",
       "      <td>3.0</td>\n",
       "      <td>4.0</td>\n",
       "      <td>3.0</td>\n",
       "      <td>3.0</td>\n",
       "      <td>5.0</td>\n",
       "      <td>4.0</td>\n",
       "      <td>1.0</td>\n",
       "      <td>5.0</td>\n",
       "      <td>3.0</td>\n",
       "      <td>...</td>\n",
       "      <td>0.0</td>\n",
       "      <td>0.0</td>\n",
       "      <td>0.0</td>\n",
       "      <td>0.0</td>\n",
       "      <td>0.0</td>\n",
       "      <td>0.0</td>\n",
       "      <td>0.0</td>\n",
       "      <td>0.0</td>\n",
       "      <td>0.0</td>\n",
       "      <td>0.0</td>\n",
       "    </tr>\n",
       "    <tr>\n",
       "      <th>2</th>\n",
       "      <td>4.0</td>\n",
       "      <td>0.0</td>\n",
       "      <td>0.0</td>\n",
       "      <td>0.0</td>\n",
       "      <td>0.0</td>\n",
       "      <td>0.0</td>\n",
       "      <td>0.0</td>\n",
       "      <td>0.0</td>\n",
       "      <td>0.0</td>\n",
       "      <td>2.0</td>\n",
       "      <td>...</td>\n",
       "      <td>0.0</td>\n",
       "      <td>0.0</td>\n",
       "      <td>0.0</td>\n",
       "      <td>0.0</td>\n",
       "      <td>0.0</td>\n",
       "      <td>0.0</td>\n",
       "      <td>0.0</td>\n",
       "      <td>0.0</td>\n",
       "      <td>0.0</td>\n",
       "      <td>0.0</td>\n",
       "    </tr>\n",
       "    <tr>\n",
       "      <th>3</th>\n",
       "      <td>0.0</td>\n",
       "      <td>0.0</td>\n",
       "      <td>0.0</td>\n",
       "      <td>0.0</td>\n",
       "      <td>0.0</td>\n",
       "      <td>0.0</td>\n",
       "      <td>0.0</td>\n",
       "      <td>0.0</td>\n",
       "      <td>0.0</td>\n",
       "      <td>0.0</td>\n",
       "      <td>...</td>\n",
       "      <td>0.0</td>\n",
       "      <td>0.0</td>\n",
       "      <td>0.0</td>\n",
       "      <td>0.0</td>\n",
       "      <td>0.0</td>\n",
       "      <td>0.0</td>\n",
       "      <td>0.0</td>\n",
       "      <td>0.0</td>\n",
       "      <td>0.0</td>\n",
       "      <td>0.0</td>\n",
       "    </tr>\n",
       "    <tr>\n",
       "      <th>4</th>\n",
       "      <td>0.0</td>\n",
       "      <td>0.0</td>\n",
       "      <td>0.0</td>\n",
       "      <td>0.0</td>\n",
       "      <td>0.0</td>\n",
       "      <td>0.0</td>\n",
       "      <td>0.0</td>\n",
       "      <td>0.0</td>\n",
       "      <td>0.0</td>\n",
       "      <td>0.0</td>\n",
       "      <td>...</td>\n",
       "      <td>0.0</td>\n",
       "      <td>0.0</td>\n",
       "      <td>0.0</td>\n",
       "      <td>0.0</td>\n",
       "      <td>0.0</td>\n",
       "      <td>0.0</td>\n",
       "      <td>0.0</td>\n",
       "      <td>0.0</td>\n",
       "      <td>0.0</td>\n",
       "      <td>0.0</td>\n",
       "    </tr>\n",
       "    <tr>\n",
       "      <th>5</th>\n",
       "      <td>4.0</td>\n",
       "      <td>3.0</td>\n",
       "      <td>0.0</td>\n",
       "      <td>0.0</td>\n",
       "      <td>0.0</td>\n",
       "      <td>0.0</td>\n",
       "      <td>0.0</td>\n",
       "      <td>0.0</td>\n",
       "      <td>0.0</td>\n",
       "      <td>0.0</td>\n",
       "      <td>...</td>\n",
       "      <td>0.0</td>\n",
       "      <td>0.0</td>\n",
       "      <td>0.0</td>\n",
       "      <td>0.0</td>\n",
       "      <td>0.0</td>\n",
       "      <td>0.0</td>\n",
       "      <td>0.0</td>\n",
       "      <td>0.0</td>\n",
       "      <td>0.0</td>\n",
       "      <td>0.0</td>\n",
       "    </tr>\n",
       "    <tr>\n",
       "      <th>6</th>\n",
       "      <td>4.0</td>\n",
       "      <td>0.0</td>\n",
       "      <td>0.0</td>\n",
       "      <td>0.0</td>\n",
       "      <td>0.0</td>\n",
       "      <td>0.0</td>\n",
       "      <td>2.0</td>\n",
       "      <td>4.0</td>\n",
       "      <td>4.0</td>\n",
       "      <td>0.0</td>\n",
       "      <td>...</td>\n",
       "      <td>0.0</td>\n",
       "      <td>0.0</td>\n",
       "      <td>0.0</td>\n",
       "      <td>0.0</td>\n",
       "      <td>0.0</td>\n",
       "      <td>0.0</td>\n",
       "      <td>0.0</td>\n",
       "      <td>0.0</td>\n",
       "      <td>0.0</td>\n",
       "      <td>0.0</td>\n",
       "    </tr>\n",
       "    <tr>\n",
       "      <th>7</th>\n",
       "      <td>0.0</td>\n",
       "      <td>0.0</td>\n",
       "      <td>0.0</td>\n",
       "      <td>5.0</td>\n",
       "      <td>0.0</td>\n",
       "      <td>0.0</td>\n",
       "      <td>5.0</td>\n",
       "      <td>5.0</td>\n",
       "      <td>5.0</td>\n",
       "      <td>4.0</td>\n",
       "      <td>...</td>\n",
       "      <td>0.0</td>\n",
       "      <td>0.0</td>\n",
       "      <td>0.0</td>\n",
       "      <td>0.0</td>\n",
       "      <td>0.0</td>\n",
       "      <td>0.0</td>\n",
       "      <td>0.0</td>\n",
       "      <td>0.0</td>\n",
       "      <td>0.0</td>\n",
       "      <td>0.0</td>\n",
       "    </tr>\n",
       "    <tr>\n",
       "      <th>8</th>\n",
       "      <td>0.0</td>\n",
       "      <td>0.0</td>\n",
       "      <td>0.0</td>\n",
       "      <td>0.0</td>\n",
       "      <td>0.0</td>\n",
       "      <td>0.0</td>\n",
       "      <td>3.0</td>\n",
       "      <td>0.0</td>\n",
       "      <td>0.0</td>\n",
       "      <td>0.0</td>\n",
       "      <td>...</td>\n",
       "      <td>0.0</td>\n",
       "      <td>0.0</td>\n",
       "      <td>0.0</td>\n",
       "      <td>0.0</td>\n",
       "      <td>0.0</td>\n",
       "      <td>0.0</td>\n",
       "      <td>0.0</td>\n",
       "      <td>0.0</td>\n",
       "      <td>0.0</td>\n",
       "      <td>0.0</td>\n",
       "    </tr>\n",
       "    <tr>\n",
       "      <th>9</th>\n",
       "      <td>0.0</td>\n",
       "      <td>0.0</td>\n",
       "      <td>0.0</td>\n",
       "      <td>0.0</td>\n",
       "      <td>0.0</td>\n",
       "      <td>5.0</td>\n",
       "      <td>4.0</td>\n",
       "      <td>0.0</td>\n",
       "      <td>0.0</td>\n",
       "      <td>0.0</td>\n",
       "      <td>...</td>\n",
       "      <td>0.0</td>\n",
       "      <td>0.0</td>\n",
       "      <td>0.0</td>\n",
       "      <td>0.0</td>\n",
       "      <td>0.0</td>\n",
       "      <td>0.0</td>\n",
       "      <td>0.0</td>\n",
       "      <td>0.0</td>\n",
       "      <td>0.0</td>\n",
       "      <td>0.0</td>\n",
       "    </tr>\n",
       "    <tr>\n",
       "      <th>10</th>\n",
       "      <td>4.0</td>\n",
       "      <td>0.0</td>\n",
       "      <td>0.0</td>\n",
       "      <td>4.0</td>\n",
       "      <td>0.0</td>\n",
       "      <td>0.0</td>\n",
       "      <td>4.0</td>\n",
       "      <td>0.0</td>\n",
       "      <td>4.0</td>\n",
       "      <td>0.0</td>\n",
       "      <td>...</td>\n",
       "      <td>0.0</td>\n",
       "      <td>0.0</td>\n",
       "      <td>0.0</td>\n",
       "      <td>0.0</td>\n",
       "      <td>0.0</td>\n",
       "      <td>0.0</td>\n",
       "      <td>0.0</td>\n",
       "      <td>0.0</td>\n",
       "      <td>0.0</td>\n",
       "      <td>0.0</td>\n",
       "    </tr>\n",
       "  </tbody>\n",
       "</table>\n",
       "<p>10 rows × 1682 columns</p>\n",
       "</div>"
      ],
      "text/plain": [
       "movie_id  1     2     3     4     5     6     7     8     9     10    ...  \\\n",
       "user_id                                                               ...   \n",
       "1          5.0   3.0   4.0   3.0   3.0   5.0   4.0   1.0   5.0   3.0  ...   \n",
       "2          4.0   0.0   0.0   0.0   0.0   0.0   0.0   0.0   0.0   2.0  ...   \n",
       "3          0.0   0.0   0.0   0.0   0.0   0.0   0.0   0.0   0.0   0.0  ...   \n",
       "4          0.0   0.0   0.0   0.0   0.0   0.0   0.0   0.0   0.0   0.0  ...   \n",
       "5          4.0   3.0   0.0   0.0   0.0   0.0   0.0   0.0   0.0   0.0  ...   \n",
       "6          4.0   0.0   0.0   0.0   0.0   0.0   2.0   4.0   4.0   0.0  ...   \n",
       "7          0.0   0.0   0.0   5.0   0.0   0.0   5.0   5.0   5.0   4.0  ...   \n",
       "8          0.0   0.0   0.0   0.0   0.0   0.0   3.0   0.0   0.0   0.0  ...   \n",
       "9          0.0   0.0   0.0   0.0   0.0   5.0   4.0   0.0   0.0   0.0  ...   \n",
       "10         4.0   0.0   0.0   4.0   0.0   0.0   4.0   0.0   4.0   0.0  ...   \n",
       "\n",
       "movie_id  1673  1674  1675  1676  1677  1678  1679  1680  1681  1682  \n",
       "user_id                                                               \n",
       "1          0.0   0.0   0.0   0.0   0.0   0.0   0.0   0.0   0.0   0.0  \n",
       "2          0.0   0.0   0.0   0.0   0.0   0.0   0.0   0.0   0.0   0.0  \n",
       "3          0.0   0.0   0.0   0.0   0.0   0.0   0.0   0.0   0.0   0.0  \n",
       "4          0.0   0.0   0.0   0.0   0.0   0.0   0.0   0.0   0.0   0.0  \n",
       "5          0.0   0.0   0.0   0.0   0.0   0.0   0.0   0.0   0.0   0.0  \n",
       "6          0.0   0.0   0.0   0.0   0.0   0.0   0.0   0.0   0.0   0.0  \n",
       "7          0.0   0.0   0.0   0.0   0.0   0.0   0.0   0.0   0.0   0.0  \n",
       "8          0.0   0.0   0.0   0.0   0.0   0.0   0.0   0.0   0.0   0.0  \n",
       "9          0.0   0.0   0.0   0.0   0.0   0.0   0.0   0.0   0.0   0.0  \n",
       "10         0.0   0.0   0.0   0.0   0.0   0.0   0.0   0.0   0.0   0.0  \n",
       "\n",
       "[10 rows x 1682 columns]"
      ]
     },
     "execution_count": 115,
     "metadata": {},
     "output_type": "execute_result"
    }
   ],
   "source": [
    "user_movie_matrix_filled = user_movie_matrix.fillna(0)\n",
    "user_movie_matrix_filled.head(10)"
   ]
  },
  {
   "cell_type": "markdown",
   "metadata": {
    "id": "fOXp00QSbtHk"
   },
   "source": [
    "### **User-Based Collaborative Filtering Recommender System**"
   ]
  },
  {
   "cell_type": "markdown",
   "metadata": {
    "id": "FwKBZk5Sc7YA"
   },
   "source": [
    "#### **Objective**\n",
    "In this task, you will implement a **user-based collaborative filtering** movie recommendation system using the **Movie dataset**. The goal is to recommend movies to a user based on the preferences of similar users."
   ]
  },
  {
   "cell_type": "markdown",
   "metadata": {
    "id": "fZf-Nu2rdPHR"
   },
   "source": [
    "##### **Step 1: Import Required Libraries**\n",
    "Before starting, ensure you have the necessary libraries installed. Use the following imports:\n",
    "\n",
    "```python\n",
    "import pandas as pd  # For handling data\n",
    "import numpy as np   # For numerical computations\n",
    "from sklearn.metrics.pairwise import cosine_similarity  # For computing user similarity\n",
    "```"
   ]
  },
  {
   "cell_type": "markdown",
   "metadata": {
    "id": "qzJNshMbdwyR"
   },
   "source": [
    "##### **Step 2: Compute User-User Similarity**\n",
    "- We will use **cosine similarity** to measure how similar each pair of users is based on their movie ratings.\n",
    "- Since `cosine_similarity` does not handle missing values (NaN), replace them with `0` before computation."
   ]
  },
  {
   "cell_type": "markdown",
   "metadata": {
    "id": "pkO_XtPqd4Sw"
   },
   "source": [
    "##### **Instructions:**\n",
    "1. Fill missing values with `0` using `.fillna(0)`.\n",
    "2. Compute similarity using `cosine_similarity()`.\n",
    "3. Convert the result into a **Pandas DataFrame**, with users as both row and column labels.\n",
    "\n",
    "##### **Hint:**  \n",
    "You can achieve this using the following approach:\n",
    "\n",
    "```python\n",
    "user_similarity = cosine_similarity(user_movie_matrix.fillna(0))\n",
    "user_sim_df = pd.DataFrame(user_similarity, index=user_movie_matrix.index, columns=user_movie_matrix.index)\n",
    "```"
   ]
  },
  {
   "cell_type": "markdown",
   "metadata": {
    "id": "NtmluaSGeBE-"
   },
   "source": [
    "##### **Step 3: Implement the Recommendation Function**\n",
    "Now, implement the function `recommend_movies_for_user(user_id, num=5)` to recommend movies for a given user.\n",
    "\n",
    "##### **Function Inputs:**\n",
    "- `user_id`: The target user for whom we need recommendations.\n",
    "- `num`: The number of movies to recommend (default is 5).\n",
    "\n",
    "##### **Function Steps:**\n",
    "1. Find **similar users**:\n",
    "   - Retrieve the similarity scores for the given `user_id`.\n",
    "   - Sort them in **descending** order (highest similarity first).\n",
    "   - Exclude the user themselves.\n",
    "   \n",
    "2. Get the **movie ratings** from these similar users.\n",
    "\n",
    "3. Compute the **average rating** for each movie based on these users' preferences.\n",
    "\n",
    "4. Sort the movies in **descending order** based on the computed average ratings.\n",
    "\n",
    "5. Retrieve the **top `num` recommended movies**.\n",
    "\n",
    "6. Map **movie IDs** to their **titles** using the `movies` DataFrame.\n",
    "\n",
    "7. Return the results as a **Pandas DataFrame** with rankings."
   ]
  },
  {
   "cell_type": "markdown",
   "metadata": {
    "id": "SgO0zd8LeGJ_"
   },
   "source": [
    "##### **Step 4: Return the Final Recommendation List**\n",
    "Your function should return a **DataFrame** structured as follows:\n",
    "\n",
    "| Ranking | Movie Name |\n",
    "|---------|-----------|\n",
    "| 1       | Movie A   |\n",
    "| 2       | Movie B   |\n",
    "| 3       | Movie C   |\n",
    "| 4       | Movie D   |\n",
    "| 5       | Movie E   |\n",
    "\n",
    "##### **Hint:** Your final DataFrame should be created like this:\n",
    "```python\n",
    "result_df = pd.DataFrame({\n",
    "    'Ranking': range(1, num+1),\n",
    "    'Movie Name': movie_names     \n",
    "})\n",
    "result_df.set_index('Ranking', inplace=True)\n",
    "```\n",
    "\n",
    "#### **Example: User-Based Collaborative Filtering**\n",
    "```python\n",
    "recommend_movies_for_user(10, num = 5)\n",
    "```\n",
    "**Output:**\n",
    "```\n",
    "| Ranking | Movie Name                     |\n",
    "|---------|--------------------------------|\n",
    "| 1       | In the Company of Men (1997)   |\n",
    "| 2       | Misérables, Les (1995)         |\n",
    "| 3       | Thin Blue Line, The (1988)     |\n",
    "| 4       | Braindead (1992)               |\n",
    "| 5       | Boys, Les (1997)               |\n"
   ]
  },
  {
   "cell_type": "markdown",
   "metadata": {
    "id": "6JvjyPLdhGke"
   },
   "source": [
    "We compute user-user similarity using cosine similarity, which helps identify users with similar taste based on their rating vectors.\n"
   ]
  },
  {
   "cell_type": "code",
   "execution_count": 124,
   "metadata": {
    "colab": {
     "base_uri": "https://localhost:8080/",
     "height": 293
    },
    "id": "rbENugJ5cUpo",
    "outputId": "4857636c-8416-4d48-a5b7-5dc4588b5970"
   },
   "outputs": [
    {
     "name": "stderr",
     "output_type": "stream",
     "text": [
      "/var/folders/0y/qjztmr6n57sc3bz86jlbd6nr0000gn/T/ipykernel_43585/2991072287.py:24: DeprecationWarning: DataFrameGroupBy.apply operated on the grouping columns. This behavior is deprecated, and in a future version of pandas the grouping columns will be excluded from the operation. Either pass `include_groups=False` to exclude the groupings or explicitly select the grouping columns after groupby to silence this warning.\n",
      "  movie_ratings = candidate_movies.groupby('movie_id').apply(\n"
     ]
    },
    {
     "data": {
      "text/html": [
       "<div>\n",
       "<style scoped>\n",
       "    .dataframe tbody tr th:only-of-type {\n",
       "        vertical-align: middle;\n",
       "    }\n",
       "\n",
       "    .dataframe tbody tr th {\n",
       "        vertical-align: top;\n",
       "    }\n",
       "\n",
       "    .dataframe thead th {\n",
       "        text-align: right;\n",
       "    }\n",
       "</style>\n",
       "<table border=\"1\" class=\"dataframe\">\n",
       "  <thead>\n",
       "    <tr style=\"text-align: right;\">\n",
       "      <th></th>\n",
       "      <th>Movie Name</th>\n",
       "    </tr>\n",
       "    <tr>\n",
       "      <th>Ranking</th>\n",
       "      <th></th>\n",
       "    </tr>\n",
       "  </thead>\n",
       "  <tbody>\n",
       "    <tr>\n",
       "      <th>1</th>\n",
       "      <td>In the Company of Men (1997)</td>\n",
       "    </tr>\n",
       "    <tr>\n",
       "      <th>2</th>\n",
       "      <td>Misérables, Les (1995)</td>\n",
       "    </tr>\n",
       "    <tr>\n",
       "      <th>3</th>\n",
       "      <td>Thin Blue Line, The (1988)</td>\n",
       "    </tr>\n",
       "    <tr>\n",
       "      <th>4</th>\n",
       "      <td>Braindead (1992)</td>\n",
       "    </tr>\n",
       "    <tr>\n",
       "      <th>5</th>\n",
       "      <td>Boys, Les (1997)</td>\n",
       "    </tr>\n",
       "  </tbody>\n",
       "</table>\n",
       "</div>"
      ],
      "text/plain": [
       "                           Movie Name\n",
       "Ranking                              \n",
       "1        In the Company of Men (1997)\n",
       "2              Misérables, Les (1995)\n",
       "3          Thin Blue Line, The (1988)\n",
       "4                    Braindead (1992)\n",
       "5                    Boys, Les (1997)"
      ]
     },
     "execution_count": 124,
     "metadata": {},
     "output_type": "execute_result"
    }
   ],
   "source": [
    "import pandas as pd\n",
    "import numpy as np\n",
    "from sklearn.metrics.pairwise import cosine_similarity\n",
    "def recommend_movies_for_user(user_id, num=5):\n",
    "  # Get user's rated movies\n",
    "    user_ratings = ratings[ratings['user_id'] == user_id]\n",
    "\n",
    "    # Create user-movie matrix\n",
    "    user_movie_matrix = ratings.pivot(index='user_id', columns='movie_id', values='rating')\n",
    "\n",
    "    # Calculate user similarity using cosine similarity\n",
    "    user_similarity = cosine_similarity(user_movie_matrix_filled)\n",
    "    user_sim_df = pd.DataFrame(user_similarity, index=user_movie_matrix.index, columns=user_movie_matrix.index)\n",
    "\n",
    "    # Get similar users\n",
    "    similar_users = user_sim_df[user_id].sort_values(ascending=False)[1:6]  # Get top 5 similar users\n",
    "\n",
    "    # Get movies rated by similar users but not by target user\n",
    "    user_rated_movies = set(user_ratings['movie_id'])\n",
    "    similar_users_ratings = ratings[ratings['user_id'].isin(similar_users.index)]\n",
    "    candidate_movies = similar_users_ratings[~similar_users_ratings['movie_id'].isin(user_rated_movies)]\n",
    "\n",
    "    # Calculate weighted average rating\n",
    "    movie_ratings = candidate_movies.groupby('movie_id').apply(\n",
    "        lambda x: np.average(x['rating'], weights=similar_users[x['user_id']])\n",
    "    ).sort_values(ascending=False)\n",
    "\n",
    "    # Get top N movies\n",
    "    top_movies = movie_ratings.head(num)\n",
    "\n",
    "    # Map movie IDs to titles\n",
    "    movie_names = movies[movies['movie_id'].isin(top_movies.index)]['title'].values\n",
    "\n",
    "    # Create result DataFrame\n",
    "    result_df = pd.DataFrame({\n",
    "        'Ranking': range(1, num+1),\n",
    "        'Movie Name': movie_names\n",
    "    })\n",
    "    result_df.set_index('Ranking', inplace=True)\n",
    "\n",
    "    return result_df\n",
    "\n",
    "recommend_movies_for_user(10, num = 5)"
   ]
  },
  {
   "cell_type": "markdown",
   "metadata": {
    "id": "4manWJDfhj6w"
   },
   "source": [
    "The recommendations for User 10 show diverse genres, which may indicate the user has eclectic taste. However, further evaluation is needed to assess how relevant these movies truly are.\n"
   ]
  },
  {
   "cell_type": "markdown",
   "metadata": {
    "id": "MIN3XqC0eUAu"
   },
   "source": [
    "### **Item-Based Collaborative Filtering Recommender System**"
   ]
  },
  {
   "cell_type": "markdown",
   "metadata": {
    "id": "ytqWK-4ze2aA"
   },
   "source": [
    "#### **Objective**\n",
    "In this task, you will implement an **item-based collaborative filtering** recommendation system using the **Movie dataset**. The goal is to recommend movies similar to a given movie based on user rating patterns."
   ]
  },
  {
   "cell_type": "markdown",
   "metadata": {
    "id": "Q0-HuDvffY57"
   },
   "source": [
    "#### **Step 1: Import Required Libraries**\n",
    "Although we have done this part already in the previous task but just to emphasize the importance reiterrating this part.\n",
    "\n",
    "Before starting, ensure you have the necessary libraries installed. Use the following imports:\n",
    "\n",
    "```python\n",
    "import pandas as pd  # For handling data\n",
    "import numpy as np   # For numerical computations\n",
    "from sklearn.metrics.pairwise import cosine_similarity  # For computing item similarity\n",
    "```"
   ]
  },
  {
   "cell_type": "markdown",
   "metadata": {
    "id": "b9oy7pojf19r"
   },
   "source": [
    "#### **Step 2: Compute Item-Item Similarity**\n",
    "- We will use **cosine similarity** to measure how similar each pair of movies is based on their user ratings.\n",
    "- Since `cosine_similarity` does not handle missing values (NaN), replace them with `0` before computation.\n",
    "- Unlike user-based filtering, we need to **transpose** (`.T`) the `user_movie_matrix` because we want similarity between movies (columns) instead of users (rows).\n",
    "\n",
    "##### **Instructions:**\n",
    "1. Transpose the user-movie matrix using `.T` to make movies the rows.\n",
    "2. Fill missing values with `0` using `.fillna(0)`.\n",
    "3. Compute similarity using `cosine_similarity()`.\n",
    "4. Convert the result into a **Pandas DataFrame**, with movies as both row and column labels.\n",
    "\n",
    "##### **Hint:**  \n",
    "You can achieve this using the following approach:\n",
    "\n",
    "```python\n",
    "item_similarity = cosine_similarity(user_movie_matrix.T.fillna(0))\n",
    "item_sim_df = pd.DataFrame(item_similarity, index=user_movie_matrix.columns, columns=user_movie_matrix.columns)\n",
    "```"
   ]
  },
  {
   "cell_type": "markdown",
   "metadata": {
    "id": "L8k80idUgDWW"
   },
   "source": [
    "#### **Step 3: Implement the Recommendation Function**\n",
    "Now, implement the function `recommend_movies(movie_name, num=5)` to recommend movies similar to a given movie.\n",
    "\n",
    "##### **Function Inputs:**\n",
    "- `movie_name`: The target movie for which we need recommendations.\n",
    "- `num`: The number of similar movies to recommend (default is 5).\n",
    "\n",
    "##### **Function Steps:**\n",
    "1. Find the **movie_id** corresponding to the given `movie_name` in the `movies` DataFrame.\n",
    "2. If the movie is not found, return an appropriate message.\n",
    "3. Extract the **similarity scores** for this movie from `item_sim_df`.\n",
    "4. Sort the movies in **descending order** based on similarity (excluding the movie itself).\n",
    "5. Retrieve the **top `num` similar movies**.\n",
    "6. Map **movie IDs** to their **titles** using the `movies` DataFrame.\n",
    "7. Return the results as a **Pandas DataFrame** with rankings."
   ]
  },
  {
   "cell_type": "markdown",
   "metadata": {
    "id": "kNRZQWQkgLPf"
   },
   "source": [
    "#### **Step 4: Return the Final Recommendation List**\n",
    "Your function should return a **DataFrame** structured as follows:\n",
    "\n",
    "| Ranking | Movie Name |\n",
    "|---------|-----------|\n",
    "| 1       | Movie A   |\n",
    "| 2       | Movie B   |\n",
    "| 3       | Movie C   |\n",
    "| 4       | Movie D   |\n",
    "| 5       | Movie E   |\n",
    "\n",
    "##### **Hint:** Your final DataFrame should be created like this:\n",
    "```python\n",
    "result_df = pd.DataFrame({\n",
    "    'ranking': range(1, num+1),\n",
    "    'movie_name': movie_names\n",
    "})\n",
    "result_df.set_index('ranking', inplace=True)\n",
    "```"
   ]
  },
  {
   "cell_type": "markdown",
   "metadata": {
    "id": "h-EEF0Q1gd9N"
   },
   "source": [
    "#### **Example: Item-Based Collaborative Filtering**\n",
    "```python\n",
    "recommend_movies(\"Jurassic Park (1993)\", num=5)\n",
    "```\n",
    "**Output:**\n",
    "```\n",
    "| Ranking | Movie Name                               |\n",
    "|---------|------------------------------------------|\n",
    "| 1       | Top Gun (1986)                           |\n",
    "| 2       | Empire Strikes Back, The (1980)          |\n",
    "| 3       | Raiders of the Lost Ark (1981)           |\n",
    "| 4       | Indiana Jones and the Last Crusade (1989)|\n",
    "| 5       | Speed (1994)                             |\n"
   ]
  },
  {
   "cell_type": "code",
   "execution_count": 133,
   "metadata": {
    "colab": {
     "base_uri": "https://localhost:8080/"
    },
    "id": "l1K79akTebWa",
    "outputId": "b58c6ea1-c515-45b8-ff83-d10b91d92bbe"
   },
   "outputs": [
    {
     "name": "stdout",
     "output_type": "stream",
     "text": [
      "                                        Movie Name\n",
      "Ranking                                           \n",
      "1                                   Top Gun (1986)\n",
      "2                  Empire Strikes Back, The (1980)\n",
      "3                   Raiders of the Lost Ark (1981)\n",
      "4        Indiana Jones and the Last Crusade (1989)\n",
      "5                                     Speed (1994)\n"
     ]
    }
   ],
   "source": [
    "# Code the function here\n",
    "import pandas as pd\n",
    "import numpy as np\n",
    "from sklearn.metrics.pairwise import cosine_similarity\n",
    "# Calculate item similarity (using cosine similarity on the transposed matrix)\n",
    "item_similarity = cosine_similarity(user_movie_matrix.T.fillna(0))\n",
    "item_sim_df = pd.DataFrame(item_similarity, index=user_movie_matrix.columns, columns=user_movie_matrix.columns)\n",
    "\n",
    "def recommend_movies(movie_name, num=5):\n",
    "    \"\"\"Recommends movies similar to a given movie.\"\"\"\n",
    "    # Get the movie ID\n",
    "    movie_id = movies[movies['title'] == movie_name]['movie_id'].iloc[0]\n",
    "\n",
    "    # Get similarity scores for the movie and sort\n",
    "    sim_scores = item_sim_df[movie_id].sort_values(ascending=False) # Make sure item_sim_df is defined.\n",
    "\n",
    "    # Exclude the movie itself\n",
    "    sim_scores = sim_scores.drop(movie_id)\n",
    "\n",
    "    # Get top similar movie IDs\n",
    "    top_movie_ids = sim_scores.head(num).index\n",
    "\n",
    "    # Get movie titles\n",
    "    recommended_movies = movies[movies['movie_id'].isin(top_movie_ids)]['title'].tolist()\n",
    "\n",
    "    # Create result DataFrame\n",
    "    result_df = pd.DataFrame({'Ranking': range(1, num + 1), 'Movie Name': recommended_movies})\n",
    "    result_df.set_index('Ranking', inplace=True)\n",
    "\n",
    "    return result_df\n",
    "\n",
    "# Example usage\n",
    "recommendations = recommend_movies(\"Jurassic Park (1993)\", num=5)\n",
    "print(recommendations)\n"
   ]
  },
  {
   "cell_type": "markdown",
   "metadata": {
    "id": "cEV0rysXiJU5"
   },
   "source": [
    "We transpose the user-movie matrix so that each row represents a movie and the columns represent users. This lets us calculate similarity between movies based on user preferences.\n"
   ]
  },
  {
   "cell_type": "markdown",
   "metadata": {
    "id": "1Feo5nWXiQJQ"
   },
   "source": [
    "Item-based filtering is usually more stable than user-based because items (movies) don't change often."
   ]
  },
  {
   "cell_type": "markdown",
   "metadata": {
    "id": "YhZXLz7Rh_VC"
   },
   "source": [
    "## **Part 3: Graph-Based Recommender (Pixie-Inspired Algorithm)**"
   ]
  },
  {
   "cell_type": "markdown",
   "metadata": {
    "id": "u_YceL18lWlN"
   },
   "source": [
    "### **Adjacency List**"
   ]
  },
  {
   "cell_type": "markdown",
   "metadata": {
    "id": "CFF1tUDsipIX"
   },
   "source": [
    "#### **Objective**\n",
    "In this task, you will preprocess the Movie dataset and construct a **graph representation** where:\n",
    "- **Users** are connected to the movies they have rated.\n",
    "- **Movies** are connected to users who have rated them.\n",
    "  \n",
    "This graph structure will help in exploring **user-movie relationships** for recommendations."
   ]
  },
  {
   "cell_type": "markdown",
   "metadata": {
    "id": "-3OPInjhkUzy"
   },
   "source": [
    "#### **Step 1: Merge Ratings with Movie Titles**\n",
    "Since we have **movie IDs** in the ratings dataset but need human-readable movie titles, we will:\n",
    "1. Merge the `ratings` DataFrame with the `movies` DataFrame using the `'movie_id'` column.\n",
    "2. This allows each rating to be associated with a **movie title**.\n",
    "\n",
    "#### **Hint:**\n",
    "Use the following Pandas operation to merge:\n",
    "```python\n",
    "ratings = ratings.merge(movies, on='movie_id')\n",
    "```"
   ]
  },
  {
   "cell_type": "markdown",
   "metadata": {
    "id": "3OPUXyNVkfHr"
   },
   "source": [
    "\n",
    "#### **Step 2: Aggregate Ratings**\n",
    "Since multiple users may rate the same movie multiple times, we:\n",
    "1. Group the dataset by `['user_id', 'movie_id', 'title']`.\n",
    "2. Compute the **mean rating** for each movie by each user.\n",
    "3. Reset the index to ensure we maintain a clean DataFrame structure.\n",
    "\n",
    "#### **Hint:**  \n",
    "Use `groupby()` and `mean()` as follows:\n",
    "```python\n",
    "ratings = ratings.groupby(['user_id', 'movie_id', 'title'])['rating'].mean().reset_index()\n",
    "```"
   ]
  },
  {
   "cell_type": "markdown",
   "metadata": {
    "id": "NU1fB66WkqEO"
   },
   "source": [
    "#### **Step 3: Normalize Ratings**\n",
    "Since different users have different rating biases, we normalize ratings by:\n",
    "1. **Computing each user's mean rating**.\n",
    "2. **Subtracting the mean rating** from each individual rating.\n",
    "\n",
    "#### **Instructions:**\n",
    "- Use `groupby('user_id')` to group ratings by users.\n",
    "- Apply `transform(lambda x: x - x.mean())` to adjust ratings.\n",
    "\n",
    "#### **Hint:**  \n",
    "Normalize ratings using:\n",
    "```python\n",
    "ratings['rating'] = ratings.groupby('user_id')['rating'].transform(lambda x: x - x.mean())\n",
    "```\n",
    "This ensures each user’s ratings are centered around zero, making similarity calculations fairer."
   ]
  },
  {
   "cell_type": "markdown",
   "metadata": {
    "id": "79NB8zIWkvWP"
   },
   "source": [
    "#### **Step 4: Construct the Graph Representation**\n",
    "We represent the user-movie interactions as an **undirected graph** using an **adjacency list**:\n",
    "- Each **user** is a node connected to movies they rated.\n",
    "- Each **movie** is a node connected to users who rated it.\n",
    "\n",
    "#### **Graph Construction Steps:**\n",
    "1. Initialize an empty dictionary `graph = {}`.\n",
    "2. Iterate through the **ratings dataset**.\n",
    "3. For each `user_id` and `movie_id` pair:\n",
    "   - Add the movie to the user’s set of connections.\n",
    "   - Add the user to the movie’s set of connections.\n",
    "\n",
    "#### **Hint:**  \n",
    "The following code builds the graph:\n",
    "\n",
    "```python\n",
    "graph = {}\n",
    "for _, row in ratings.iterrows():\n",
    "    user, movie = row['user_id'], row['movie_id']\n",
    "    if user not in graph:\n",
    "        graph[user] = set()\n",
    "    if movie not in graph:\n",
    "        graph[movie] = set()\n",
    "    graph[user].add(movie)\n",
    "    graph[movie].add(user)\n",
    "```\n",
    "\n",
    "This results in a **bipartite graph**, where:\n",
    "- **Users** are connected to multiple movies.\n",
    "- **Movies** are connected to multiple users."
   ]
  },
  {
   "cell_type": "markdown",
   "metadata": {
    "id": "wEuVgjAAk4KV"
   },
   "source": [
    "#### **Step 5: Understanding the Graph**\n",
    "- **Nodes** in the graph represent **users and movies**.\n",
    "- **Edges** exist between a user and a movie **if the user has rated the movie**.\n",
    "- This structure allows us to find **users with similar movie tastes** and **movies frequently watched together**.\n",
    "\n",
    "#### **Exploring the Graph**\n",
    "- **Find a user’s rated movies:**  \n",
    "  ```python\n",
    "  user_id = 1\n",
    "  print(graph[user_id])  # Movies rated by user 1\n",
    "  ```\n",
    "\n",
    "- **Find users who rated a movie:**  \n",
    "  ```python\n",
    "  movie_id = 50\n",
    "  print(graph[movie_id])  # Users who rated movie 50\n",
    "  ```"
   ]
  },
  {
   "cell_type": "markdown",
   "metadata": {
    "id": "8xB6VkvHicR2"
   },
   "source": [
    "In our graph, users and movies are two separate node types. An edge exists between a user and a movie if the user has rated that movie. This forms a bipartite graph.\n"
   ]
  },
  {
   "cell_type": "code",
   "execution_count": 145,
   "metadata": {
    "colab": {
     "base_uri": "https://localhost:8080/"
    },
    "id": "b4V2aL4DiMM4",
    "outputId": "c956f699-4238-45a5-e73a-950f608ed775"
   },
   "outputs": [
    {
     "name": "stdout",
     "output_type": "stream",
     "text": [
      "Movies rated by user 1: {1, 2, 3, 4, 5, 6, 7, 8, 9, 10, 11, 12, 13, 14, 15, 16, 17, 18, 19, 20, 21, 22, 23, 24, 25, 26, 27, 28, 29, 30, 31, 32, 33, 34, 35, 36, 37, 38, 39, 40, 41, 42, 43, 44, 45, 46, 47, 48, 49, 50, 51, 52, 53, 54, 55, 56, 57, 58, 59, 60, 61, 62, 63, 64, 65, 66, 67, 68, 69, 70, 71, 72, 73, 74, 75, 76, 77, 78, 79, 80, 81, 82, 83, 84, 85, 86, 87, 88, 89, 90, 91, 92, 93, 94, 95, 96, 97, 98, 99, 100, 101, 102, 103, 104, 105, 106, 107, 108, 109, 110, 111, 112, 113, 114, 115, 116, 117, 118, 119, 120, 121, 122, 123, 124, 125, 126, 127, 128, 129, 130, 131, 132, 133, 134, 135, 136, 137, 138, 139, 140, 141, 142, 143, 144, 145, 146, 147, 148, 149, 150, 151, 152, 153, 154, 155, 156, 157, 158, 159, 160, 161, 162, 163, 164, 165, 166, 167, 168, 169, 170, 171, 172, 173, 174, 175, 176, 177, 178, 179, 180, 181, 182, 183, 184, 185, 186, 187, 188, 189, 190, 191, 192, 193, 194, 195, 196, 197, 198, 199, 200, 201, 202, 203, 204, 205, 206, 207, 208, 209, 210, 211, 212, 213, 214, 215, 216, 217, 218, 219, 220, 221, 222, 223, 224, 225, 226, 227, 228, 229, 230, 231, 232, 233, 234, 235, 236, 237, 238, 239, 240, 241, 242, 243, 244, 245, 246, 247, 248, 249, 250, 251, 252, 253, 254, 255, 256, 257, 258, 259, 260, 261, 262, 263, 264, 265, 266, 267, 268, 269, 270, 271, 272, 274, 275, 276, 277, 279, 280, 286, 287, 289, 290, 291, 292, 293, 294, 295, 296, 297, 298, 299, 301, 303, 305, 307, 308, 311, 312, 313, 314, 320, 322, 324, 325, 326, 327, 330, 331, 332, 336, 338, 339, 340, 343, 344, 345, 347, 348, 350, 357, 359, 360, 363, 365, 371, 374, 378, 379, 380, 381, 387, 388, 389, 390, 393, 394, 395, 396, 398, 399, 401, 402, 403, 406, 407, 411, 412, 416, 417, 419, 422, 424, 425, 429, 432, 434, 435, 438, 441, 445, 447, 450, 454, 455, 456, 457, 458, 459, 460, 463, 465, 467, 468, 470, 471, 472, 478, 479, 483, 484, 486, 487, 488, 490, 493, 494, 495, 497, 500, 503, 505, 508, 512, 514, 517, 518, 521, 523, 525, 526, 532, 533, 534, 535, 536, 537, 540, 541, 542, 545, 548, 549, 550, 552, 553, 554, 560, 561, 562, 567, 569, 576, 577, 579, 580, 582, 588, 592, 593, 597, 599, 602, 605, 606, 609, 610, 612, 613, 614, 618, 620, 621, 622, 624, 630, 632, 634, 635, 636, 637, 642, 643, 648, 649, 650, 653, 654, 655, 657, 658, 660, 661, 663, 664, 665, 669, 674, 676, 677, 678, 679, 680, 682, 684, 689, 690, 691, 692, 697, 698, 699, 701, 703, 705, 706, 708, 709, 710, 714, 715, 716, 721, 723, 726, 727, 730, 731, 733, 735, 738, 742, 744, 745, 746, 747, 748, 749, 751, 756, 757, 759, 761, 763, 764, 767, 768, 769, 770, 771, 773, 777, 779, 785, 786, 788, 789, 790, 792, 793, 794, 795, 796, 798, 800, 804, 805, 806, 807, 815, 817, 821, 822, 823, 826, 829, 830, 831, 835, 838, 839, 843, 847, 852, 854, 864, 865, 867, 868, 870, 872, 879, 880, 881, 882, 883, 885, 886, 887, 889, 890, 892, 893, 894, 895, 896, 897, 899, 901, 902, 903, 907, 910, 913, 916, 917, 918, 919, 921, 922, 923, 924, 927, 929, 930, 932, 933, 934, 935, 936, 938, 941}\n",
      "Users who rated movie 50: {1, 2, 4, 5, 6, 7, 8, 9, 10, 12, 13, 14, 15, 18, 20, 21, 22, 23, 25, 26, 27, 28, 30, 32, 37, 41, 42, 43, 44, 45, 46, 48, 49, 51, 53, 54, 55, 56, 57, 58, 59, 60, 62, 63, 64, 65, 66, 68, 69, 70, 71, 72, 77, 79, 80, 82, 83, 85, 87, 89, 91, 92, 94, 95, 96, 97, 99, 100, 101, 102, 103, 104, 108, 109, 113, 115, 116, 117, 119, 120, 121, 123, 124, 125, 127, 128, 130, 132, 137, 141, 144, 145, 148, 150, 151, 153, 154, 157, 158, 160, 161, 162, 169, 174, 175, 176, 177, 178, 182, 183, 184, 185, 188, 189, 192, 194, 197, 198, 200, 201, 203, 209, 210, 213, 214, 215, 216, 217, 221, 222, 227, 230, 231, 232, 233, 234, 235, 236, 239, 244, 245, 246, 247, 248, 249, 250, 251, 253, 254, 256, 257, 262, 263, 265, 267, 268, 269, 270, 271, 272, 274, 275, 276, 277, 279, 280, 283, 286, 287, 288, 290, 291, 292, 293, 294, 295, 296, 297, 298, 299, 301, 303, 305, 307, 308, 310, 311, 312, 313, 316, 318, 319, 320, 321, 322, 323, 324, 325, 326, 327, 328, 329, 330, 332, 334, 336, 337, 339, 340, 343, 344, 345, 346, 347, 350, 352, 354, 359, 360, 361, 363, 367, 368, 369, 370, 371, 373, 374, 378, 379, 380, 381, 382, 385, 386, 387, 389, 391, 392, 393, 394, 395, 397, 398, 399, 401, 402, 403, 405, 406, 407, 409, 411, 413, 416, 417, 419, 421, 422, 424, 425, 426, 429, 430, 432, 433, 435, 436, 437, 438, 444, 445, 447, 450, 452, 453, 454, 455, 456, 457, 458, 459, 461, 463, 464, 465, 466, 467, 468, 470, 471, 472, 474, 475, 478, 479, 480, 481, 482, 483, 484, 486, 487, 488, 490, 493, 494, 495, 496, 497, 498, 499, 500, 503, 504, 505, 506, 507, 508, 509, 512, 513, 514, 516, 517, 521, 523, 524, 526, 527, 528, 530, 533, 535, 536, 537, 538, 539, 540, 541, 542, 544, 545, 546, 547, 548, 549, 550, 551, 552, 553, 554, 555, 557, 560, 561, 562, 563, 564, 566, 567, 569, 573, 575, 576, 577, 579, 580, 581, 582, 584, 586, 588, 592, 593, 594, 595, 596, 597, 600, 601, 602, 603, 606, 608, 610, 613, 618, 619, 620, 621, 622, 623, 624, 625, 629, 630, 632, 633, 634, 637, 638, 641, 642, 643, 644, 645, 648, 649, 650, 653, 654, 655, 658, 659, 660, 661, 662, 663, 664, 665, 666, 668, 669, 671, 672, 674, 676, 678, 679, 680, 682, 684, 686, 689, 691, 693, 694, 697, 698, 699, 700, 701, 703, 704, 705, 706, 708, 709, 710, 711, 712, 714, 715, 716, 717, 719, 721, 723, 727, 730, 734, 735, 736, 738, 739, 741, 742, 744, 745, 746, 747, 748, 749, 751, 753, 756, 757, 758, 759, 760, 761, 763, 764, 765, 766, 768, 770, 771, 773, 774, 776, 779, 780, 781, 782, 785, 786, 789, 790, 791, 793, 794, 795, 796, 797, 798, 799, 800, 804, 805, 806, 807, 815, 823, 825, 826, 830, 831, 832, 833, 834, 835, 838, 839, 840, 843, 844, 846, 847, 848, 850, 851, 852, 854, 862, 864, 867, 868, 869, 870, 871, 875, 878, 879, 880, 881, 882, 883, 885, 886, 887, 889, 890, 891, 892, 893, 894, 895, 896, 897, 899, 901, 902, 903, 907, 908, 910, 913, 916, 917, 919, 921, 922, 923, 924, 929, 930, 931, 933, 934, 936, 937, 938, 940, 942, 943, 1008, 1010, 1084}\n"
     ]
    }
   ],
   "source": [
    "# Code the function here\n",
    "def build_graph(ratings, movies):\n",
    "  #Step 1: Merge Ratings with Movie Titles\n",
    "  ratings = ratings.merge(movies, on='movie_id')\n",
    "\n",
    "  #Step 2: Aggregate Ratings\n",
    "  ratings = ratings.groupby(['user_id', 'movie_id', 'title'])['rating'].mean().reset_index()\n",
    "\n",
    "  #Step 3: Normalize ratings\n",
    "  ratings['rating'] = ratings.groupby('user_id')['rating'].transform(lambda x: x - x.mean())\n",
    "\n",
    "  #Step 4: Construct the Graph Representation\n",
    "  graph={}\n",
    "  for _, row in ratings.iterrows():\n",
    "    user, movie = row['user_id'], row['movie_id']\n",
    "    #Add movie to user's adjacency list\n",
    "    if user not in graph:\n",
    "        graph[user] = set()\n",
    "    #Add user to movie's adjacency list\n",
    "    if movie not in graph:\n",
    "        graph[movie] = set()\n",
    "    graph[user].add(movie)\n",
    "    graph[movie].add(user)\n",
    "\n",
    "  return graph\n",
    "\n",
    "# Assuming we have ratings and movies loaded as DataFrames\n",
    "graph=build_graph(ratings,movies)\n",
    "\n",
    "print(\"Movies rated by user 1:\", graph[1])\n",
    "print(\"Users who rated movie 50:\", graph[50])\n",
    "\n"
   ]
  },
  {
   "cell_type": "markdown",
   "metadata": {
    "id": "_ZE31gB7lImI"
   },
   "source": [
    "### **Implement Weighted Random Walks**"
   ]
  },
  {
   "cell_type": "markdown",
   "metadata": {
    "id": "yHe42rlJl9kD"
   },
   "source": [
    "#### **Random Walk-Based Movie Recommendation System (Weighted Pixie)**"
   ]
  },
  {
   "cell_type": "markdown",
   "metadata": {
    "id": "jyqptwreo-IP"
   },
   "source": [
    "#### **Objective**\n",
    "In this task, you will implement a **random-walk-based recommendation algorithm** using the **Weighted Pixie** method. This technique uses a **user-movie bipartite graph** to recommend movies by simulating a random walk from a given user or movie."
   ]
  },
  {
   "cell_type": "markdown",
   "metadata": {
    "id": "jFgyzzdCpfzu"
   },
   "source": [
    "#### **Step 1: Import Required Libraries**\n",
    "Make sure you have the necessary libraries:\n",
    "\n",
    "```python\n",
    "import random  # For random walks\n",
    "import pandas as pd  # For handling data\n",
    "```"
   ]
  },
  {
   "cell_type": "markdown",
   "metadata": {
    "id": "_FVGjhl0ppFK"
   },
   "source": [
    "#### **Step 2: Implement the Random Walk Algorithm**\n",
    "Your task is to **simulate a random walk** from a given starting point in the **bipartite user-movie graph**.\n",
    "\n",
    "##### **Hints for Implementation**\n",
    "- Start from **either a user or a movie**.\n",
    "- At each step, **randomly move** to a connected node.\n",
    "- Keep track of **how many times each movie is visited**.\n",
    "- After completing the walk, **rank movies by visit count**."
   ]
  },
  {
   "cell_type": "markdown",
   "metadata": {
    "id": "E7D7Pj6trss9"
   },
   "source": [
    "#### **Step 3: Implement User-Based Recommendation**\n",
    "**Hints:**\n",
    "- Check if the `user_id` exists in the `graph`.\n",
    "- Start a loop that runs for `walk_length` steps.\n",
    "- Randomly pick a **connected node** (user or movie).\n",
    "- Track how many times each **movie** is visited.\n",
    "- Sort movies by visit frequency and return the **top N**.\n",
    "\n",
    "#### **Step 4: Implement Movie-Based Recommendation**\n",
    "**Hints:**\n",
    "- Find the `movie_id` corresponding to the given `movie_name`.\n",
    "- Ensure the movie exists in the `graph`.\n",
    "- Start a random walk from that movie.\n",
    "- Follow the same **tracking and ranking** process as the user-based version.\n",
    "\n",
    "**Note:**  \n",
    "**Your task:** Implement a function `weighted_pixie_recommend(user_id, walk_length=15, num=5)` or `weighted_pixie_recommend(movie_name, walk_length=15, num=5)`.  \n",
    "**Implement either Step 3 or Step 4.**"
   ]
  },
  {
   "cell_type": "markdown",
   "metadata": {
    "id": "qxN_ibCCrCpx"
   },
   "source": [
    "#### **Step 5: Running Your Recommendation System**\n",
    "Once your function is implemented, test it by calling:\n",
    "\n",
    "##### **Example: User-Based Recommendation**\n",
    "```python\n",
    "weighted_pixie_recommend(1, walk_length=15, num=5)\n",
    "```\n",
    "| Ranking | Movie Name                     |\n",
    "|---------|--------------------------------|\n",
    "| 1       | My Own Private Idaho (1991)   |\n",
    "| 2       | Aladdin (1992)                |\n",
    "| 3       | 12 Angry Men (1957)           |\n",
    "| 4       | Happy Gilmore (1996)          |\n",
    "| 5       | Copycat (1995)                |\n",
    "\n",
    "\n",
    "##### **Example: Movie-Based Recommendation**\n",
    "```python\n",
    "weighted_pixie_recommend(\"Jurassic Park (1993)\", walk_length=10, num=5)\n",
    "```\n",
    "| Ranking | Movie Name                           |\n",
    "|---------|-------------------------------------|\n",
    "| 1       | Rear Window (1954)                 |\n",
    "| 2       | Great Dictator, The (1940)         |\n",
    "| 3       | Field of Dreams (1989)             |\n",
    "| 4       | Casablanca (1942)                  |\n",
    "| 5       | Nightmare Before Christmas, The (1993) |\n"
   ]
  },
  {
   "cell_type": "markdown",
   "metadata": {
    "id": "ZpUH9IzVr5aQ"
   },
   "source": [
    "#### **Step 6: Understanding the Results**\n",
    "Your function should return a **DataFrame** structured as follows:\n",
    "\n",
    "| Ranking | Movie Name |\n",
    "|---------|-----------|\n",
    "| 1       | Movie A   |\n",
    "| 2       | Movie B   |\n",
    "| 3       | Movie C   |\n",
    "| 4       | Movie D   |\n",
    "| 5       | Movie E   |\n",
    "\n",
    "Each movie is ranked based on **how frequently it was visited** during the walk.\n",
    "\n",
    "#### **Experiment with Different Parameters**\n",
    "- Try different **`walk_length`** values and observe how it changes recommendations.\n",
    "- Adjust the number of recommended movies (`num`)."
   ]
  },
  {
   "cell_type": "markdown",
   "metadata": {
    "id": "HMTG12jHiiNk"
   },
   "source": [
    "The Pixie-inspired random walk algorithm simulates user discovery by \"walking\" over the graph, moving randomly between users and movies based on weighted edges (ratings). This helps surface popular or similar items even if they were never rated by similar users.\n"
   ]
  },
  {
   "cell_type": "code",
   "execution_count": 155,
   "metadata": {
    "colab": {
     "base_uri": "https://localhost:8080/"
    },
    "id": "tZD5fjG-lx3b",
    "outputId": "976f8931-24d5-4cd1-b9c9-02fd299c93ef"
   },
   "outputs": [
    {
     "name": "stdout",
     "output_type": "stream",
     "text": [
      "User-based recommendations:\n",
      "                   Movie Name\n",
      "1            Toy Story (1995)\n",
      "2  Legends of the Fall (1994)\n",
      "3            Star Wars (1977)\n",
      "4             Basquiat (1996)\n",
      "5  Wrong Trousers, The (1993) \n",
      "\n",
      "Movie-based recommendations:\n",
      "                           Movie Name\n",
      "1                Jurassic Park (1993)\n",
      "2                   Cinderella (1950)\n",
      "3                 Apostle, The (1997)\n",
      "4             Mighty Aphrodite (1995)\n",
      "5  People vs. Larry Flynt, The (1996)\n"
     ]
    }
   ],
   "source": [
    "# Code the function here\n",
    "import random\n",
    "def weighted_pixie_recommend(start_point, walk_length=10, num=5):\n",
    "    if isinstance(start_point, str):\n",
    "        movie_id = movies[movies['title'] == start_point]['movie_id'].iloc[0]\n",
    "        start_point = movie_id\n",
    "\n",
    "    path = [start_point]\n",
    "    visited_movies = set()\n",
    "\n",
    "    current = start_point\n",
    "    for _ in range(walk_length):\n",
    "        if current in users['user_id'].values:\n",
    "            user_movies = ratings[ratings['user_id'] == current]\n",
    "            if len(user_movies) == 0:\n",
    "                break\n",
    "            weights = user_movies['rating'] / user_movies['rating'].sum()\n",
    "            next_movie = np.random.choice(user_movies['movie_id'], p=weights)\n",
    "        else:\n",
    "            movie_users = ratings[ratings['movie_id'] == current]\n",
    "            if len(movie_users) == 0:\n",
    "                break\n",
    "            weights = movie_users['rating'] / movie_users['rating'].sum()\n",
    "            next_user = np.random.choice(movie_users['user_id'], p=weights)\n",
    "            user_movies = ratings[ratings['user_id'] == next_user]\n",
    "            if len(user_movies) == 0:\n",
    "                break\n",
    "            weights = user_movies['rating'] / user_movies['rating'].sum()\n",
    "            next_movie = np.random.choice(user_movies['movie_id'], p=weights)\n",
    "\n",
    "        path.append(next_movie)\n",
    "        if next_movie in movies['movie_id'].values:\n",
    "            visited_movies.add(next_movie)\n",
    "        current = next_movie\n",
    "\n",
    "    movie_counts = pd.Series(path).value_counts() ## Count how frequently each movie was visited during the walk\n",
    "    movie_counts = movie_counts[movie_counts.index.isin(movies['movie_id'])]\n",
    "\n",
    "    recommendations = pd.DataFrame({\n",
    "        'movie_id': movie_counts.index,\n",
    "        'count': movie_counts.values\n",
    "    })\n",
    "\n",
    "    recommendations = recommendations.merge(movies[['movie_id', 'title']], on='movie_id')\n",
    "    recommendations = recommendations.sort_values('count', ascending=False)\n",
    "    recommendations = recommendations[['title']].head(num).reset_index(drop=True)\n",
    "    recommendations.index = recommendations.index + 1  # Add 1 to make ranking start from 1\n",
    "    recommendations = recommendations.rename(columns={'title': 'Movie Name'})\n",
    "    return recommendations\n",
    "\n",
    "print(\"User-based recommendations:\")\n",
    "print (weighted_pixie_recommend(1, walk_length=15, num=5),\"\\n\")\n",
    "\n",
    "print (\"Movie-based recommendations:\")\n",
    "print (weighted_pixie_recommend(\"Jurassic Park (1993)\", walk_length=10, num=5))"
   ]
  },
  {
   "cell_type": "markdown",
   "metadata": {
    "id": "4iROwFc2iyXY"
   },
   "source": [
    "* The user-based model provided niche indie movies, indicating it pulled from similar users with unique taste.\n",
    "* The item-based model recommended popular action-adventure movies based on similarity to \"Jurassic Park\".\n",
    "* The Pixie random walk model surfaced both classic and popular titles, reflecting graph-based diversity in discovery.\n",
    "\n"
   ]
  },
  {
   "cell_type": "markdown",
   "metadata": {
    "id": "eR3BKeMGi_kJ"
   },
   "source": [
    "See accompanying report \"Movie Recommendation System Report\" (Recommendation_Report.md) for a detailed evaluation, dataset description, and insights.\n"
   ]
  },
  {
   "cell_type": "markdown",
   "metadata": {
    "id": "Q36Y2C7PxWO0"
   },
   "source": [
    "---"
   ]
  },
  {
   "cell_type": "markdown",
   "metadata": {
    "id": "9iKlQlvBtiGe"
   },
   "source": [
    "## **Submission Requirements:**"
   ]
  },
  {
   "cell_type": "markdown",
   "metadata": {
    "id": "NHGGedZexPs0"
   },
   "source": [
    "To successfully complete this assignment, ensure that you submit the following:\n",
    "\n",
    "\n",
    "### **1. Jupyter Notebook Submission**\n",
    "- Submit a **fully completed Jupyter Notebook** that includes:\n",
    "  - **All implemented recommendation functions** (user-based, item-based, and random walk-based recommendations).\n",
    "  - **Code explanations** in markdown cells to describe each step.\n",
    "  - **Results and insights** from running your recommendation models.\n",
    "\n",
    "\n",
    "### **2. Explanation of Pixie-Inspired Algorithms (3-5 Paragraphs)**\n",
    "- Write a **detailed explanation** of **Pixie-inspired random walk algorithms** used for recommendations.\n",
    "- Your explanation should cover:\n",
    "  - What **Pixie-inspired recommendation systems** are.\n",
    "  - How **random walks** help in identifying relevant recommendations.\n",
    "  - Any real-world applications of such algorithms in industry.\n",
    "\n",
    "\n",
    "### **3. Report for the Submitted Notebook**\n",
    "Your report should be structured as follows:\n",
    "\n",
    "#### **Title: Movie Recommendation System Report**\n",
    "\n",
    "#### **1. Introduction**\n",
    "- Briefly introduce **movie recommendation systems** and why they are important.\n",
    "- Explain the **different approaches used** (user-based, item-based, random-walk).\n",
    "\n",
    "#### **2. Dataset Description**\n",
    "- Describe the **MovieLens 100K dataset**:\n",
    "  - Number of users, movies, and ratings.\n",
    "  - What features were used.\n",
    "  - Any preprocessing performed.\n",
    "\n",
    "#### **3. Methodology**\n",
    "- Explain the three recommendation techniques implemented:\n",
    "  - **User-based collaborative filtering** (how user similarity was calculated).\n",
    "  - **Item-based collaborative filtering** (how item similarity was determined).\n",
    "  - **Random-walk-based Pixie algorithm** (why graph-based approaches are effective).\n",
    "  \n",
    "#### **4. Implementation Details**\n",
    "- Discuss the steps taken to build the functions.\n",
    "- Describe how the **adjacency list graph** was created.\n",
    "- Explain how **random walks** were performed and how visited movies were ranked.\n",
    "\n",
    "#### **5. Results and Evaluation**\n",
    "- Present **example outputs** from each recommendation approach.\n",
    "- Compare the different methods in terms of accuracy and usefulness.\n",
    "- Discuss any **limitations** in the implementation.\n",
    "\n",
    "#### **6. Conclusion**\n",
    "- Summarize the key takeaways from the project.\n",
    "- Discuss potential improvements (e.g., **hybrid models, additional features**).\n",
    "- Suggest real-world applications of the methods used."
   ]
  },
  {
   "cell_type": "markdown",
   "metadata": {
    "id": "NWgT_Shy-vUK"
   },
   "source": [
    "### **Submission Instructions**"
   ]
  },
  {
   "cell_type": "markdown",
   "metadata": {
    "id": "Nuz1s-Vh_L55"
   },
   "source": [
    "- Submit `.zip` file consisting of Jupyter Notebook and all the datafiles (provided) and the ones saved [i.e. `users.csv`, `movies.csv` and `ratings.csv`]. Also, include the Report and Pixie Algorithm explanation document.\n",
    "- [`Bonus 10 Points`] **Upload your Jupyter Notebook, Explanation Document, and Report** to your GitHub repository.\n",
    "- Ensure the repository is public and contains:\n",
    "  - `users.csv`, `movies.csv` and `ratings.csv` [These are the Dataframes which were created in part 1. Save and export them as a `.csv` file]\n",
    "  - `Movie_Recommendation.ipynb`\n",
    "  - `Pixie_Algorithm_Explanation.pdf` or `.md`\n",
    "  - `Recommendation_Report.pdf` or `.md`\n",
    "- **Submit the GitHub repository link in the cell below.**\n",
    "\n",
    "\n",
    "#### **Example Submission Format**\n",
    "```text\n",
    "GitHub Repository: https://github.com/username/Movie-Recommendation\n",
    "```"
   ]
  },
  {
   "cell_type": "code",
   "execution_count": 163,
   "metadata": {
    "id": "jol9nRDau6fZ"
   },
   "outputs": [],
   "source": [
    "# Submit the Github Link here:\n",
    "https://github.com/pals6/Movie-Recommendation"
   ]
  },
  {
   "cell_type": "markdown",
   "metadata": {
    "id": "oQ6aluK-0ZMa"
   },
   "source": [
    "### **Grading Rubric: ITCS 6162 - Data Mining Assignment**"
   ]
  },
  {
   "cell_type": "markdown",
   "metadata": {
    "id": "sNAfeIzA_fCq"
   },
   "source": [
    "\n",
    "| **Category**                              | **Criteria**                                                     | **Points** |\n",
    "|-------------------------------------------|----------------------------------------------------------------|------------|\n",
    "| **Part 1: Exploring and Cleaning Data (15 pts)**  | Properly loads `u.user`, `u.movies`, and `u.item` datasets into DataFrames | 5 |\n",
    "|                                           | Handles missing values, duplicates, and inconsistencies appropriately | 5 |\n",
    "|                                           | Saves the cleaned datasets into CSV files: `users.csv`, `movies.csv`, `ratings.csv` | 5 |\n",
    "| **Part 2: Collaborative Filtering-Based Recommendation (30 pts)** | Implements user-based collaborative filtering correctly | 10 |\n",
    "|                                           | Implements item-based collaborative filtering correctly | 10 |\n",
    "|                                           | Computes similarity measures accurately and provides valid recommendations | 10 |\n",
    "| **Part 3: Graph-Based Recommender (Pixie-Inspired Algorithm) (35 pts)** | Constructs adjacency lists properly from user-movie interactions | 10 |\n",
    "|                                           | Implements weighted random walk-based recommendation correctly | 15 |\n",
    "|                                           | Explains and justifies the algorithm design choices (Pixie-inspired) | 10 |\n",
    "| **Code Quality & Documentation (10 pts)** | Code is well-structured, efficient, and follows best practices | 5 |\n",
    "|                                           | Markdown explanations and comments are clear and enhance understanding | 5 |\n",
    "| **Results & Interpretation (5 pts)**      | Provides meaningful insights from the recommendation system's output | 5 |\n",
    "| **Submission & Report (5 pts)**          | Submits all required files in the correct format (ZIP file with Jupyter notebook, processed CSV files, and project report) | 5 |\n",
    "| **Total**                                 |                              | 100 |\n",
    "\n",
    "#### **Bonus (10 pts)**\n",
    "| **Category**                              | **Criteria**                                                     | **Points** |\n",
    "|-------------------------------------------|----------------------------------------------------------------|------------|\n",
    "| **GitHub Submission**                     | Provides a well-documented GitHub repository with CSV files, a structured README, and a properly formatted Jupyter Notebook | 10 |"
   ]
  }
 ],
 "metadata": {
  "colab": {
   "provenance": []
  },
  "kernelspec": {
   "display_name": "Python 3 (ipykernel)",
   "language": "python",
   "name": "python3"
  },
  "language_info": {
   "codemirror_mode": {
    "name": "ipython",
    "version": 3
   },
   "file_extension": ".py",
   "mimetype": "text/x-python",
   "name": "python",
   "nbconvert_exporter": "python",
   "pygments_lexer": "ipython3",
   "version": "3.12.4"
  }
 },
 "nbformat": 4,
 "nbformat_minor": 4
}
